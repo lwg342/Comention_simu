{
 "cells": [
  {
   "cell_type": "code",
   "execution_count": 1,
   "metadata": {},
   "outputs": [],
   "source": [
    "import numpy as np\n",
    "from sklearn.datasets import make_sparse_spd_matrix\n",
    "from scipy import linalg as LA\n",
    "import random\n",
    "import pandas as pd\n",
    "import time, os\n",
    "import matplotlib.pyplot as plt\n",
    "\n",
    "from pyinstrument import Profiler\n",
    "import Ipynb_importer\n",
    "\n",
    "from infoband.band_info import InfoCorrBand\n",
    "from wlpy.covariance import Covariance\n",
    "from utils.adpt_correlation_threshold import AdptCorrThreshold\n",
    "from wlpy.gist import heatmap\n",
    "\n",
    "import warnings\n",
    "warnings.filterwarnings(\"ignore\")"
   ]
  },
  {
   "cell_type": "code",
   "execution_count": 2,
   "metadata": {},
   "outputs": [],
   "source": [
    "def cov2cor(S: np.ndarray):\n",
    "    # Covariance to Correlation\n",
    "    D = np.diag(np.sqrt(np.diag(S)))\n",
    "    D_inv = np.linalg.inv(D)\n",
    "    return D_inv @ S @ D_inv"
   ]
  },
  {
   "cell_type": "code",
   "execution_count": 3,
   "metadata": {},
   "outputs": [],
   "source": [
    "def gen_S_AR1(rho = 0.8, N = 500) -> np.ndarray:\n",
    "    # self covariance matrix of AR(1) process\n",
    "    S_block = np.zeros(shape=[N, N])\n",
    "    for j in range(0, N):\n",
    "        S_block = S_block + np.diag(np.ones(N - j) * (rho ** j), -j) + np.diag(np.ones(N - j) * (rho ** j), j)\n",
    "    S = S_block - np.eye(N)\n",
    "    return S"
   ]
  },
  {
   "cell_type": "code",
   "execution_count": 4,
   "metadata": {},
   "outputs": [],
   "source": [
    "def gen_eta_sequence(N, eta = 0.5, draw_type = 'random', is_random = False, \n",
    "                     rand_seed = 100, near_factor = 2) -> np.ndarray:\n",
    "    \"\"\"\n",
    "    Generate a sequence b, which is a permutation of {1, ..., N}. \n",
    "    b satisfies the property: for any 0 < k < N+1, b[0]~b[k-1] include {1, ..., ceil(eta*k)}.  \n",
    "    \n",
    "    draw_type : {'random', 'near'}\n",
    "        Algorithms about how to draw ( {b[0], ..., b[k-1]} - {1, ..., ceil(eta*k)} ). Here '-' is a subtraction between two sets.\n",
    "    is_random : bool\n",
    "        If False, we use random_seed as random seed, for repeat running results.\n",
    "    random_seed : int\n",
    "    near_factor : float\n",
    "        Needed only when draw_type = 'near'.\n",
    "    \"\"\"\n",
    "    if is_random:\n",
    "        rng = random\n",
    "    else:\n",
    "        rng = np.random.RandomState(rand_seed)\n",
    "        \n",
    "    b = [1] # Default to keep the diagonal element in covariance estimation.\n",
    "    b_complement = [i for i in range(2, N + 1)] # b's complement set\n",
    "    \n",
    "    for k in range(2, N + 1):\n",
    "        # consider k-th element\n",
    "        th = int(np.ceil(eta * k))\n",
    "        # S^L_k include S^d_{th}\n",
    "        cnt = sum([1 if num <= th else 0 for num in b])\n",
    "        if cnt < th:\n",
    "            for next_id in range(1, th + 1):\n",
    "                if next_id not in b:\n",
    "                    b.append(next_id)\n",
    "                    b_complement.remove(next_id)\n",
    "                    break\n",
    "        else:\n",
    "            # len(b_complement) == N + 1 - k\n",
    "            if draw_type == 'random':\n",
    "                j = rng.randint(0, N - k) if N - k > 0 else 0\n",
    "            elif draw_type == 'near':\n",
    "                upper = min(int(near_factor * k), N - k)\n",
    "                j = rng.randint(0, upper) if upper > 0 else 0\n",
    "            else:\n",
    "                raise Exception('draw_type, value error')\n",
    "            next_id = b_complement[j] \n",
    "            b.append(next_id)\n",
    "            b_complement.remove(next_id)\n",
    "    return np.array(b)"
   ]
  },
  {
   "cell_type": "code",
   "execution_count": 5,
   "metadata": {},
   "outputs": [],
   "source": [
    "def gen_L(S, eta, verbose = False, draw_type = 'random', is_random = False, \n",
    "          rand_seed = 100, near_factor = 2):\n",
    "    N = S.shape[0]\n",
    "    new_rowSort = np.zeros((N, N))\n",
    "    \n",
    "    R = cov2cor(S)\n",
    "    L = abs(R)\n",
    "    rowSort = InfoCorrBand(X = np.eye(N), L = L).rowSort # You can ignore the 'X = np.eye(N)' parameter. I create this temporary object solely to get 'rowSort' matrix.\n",
    "    \n",
    "    for i in range(N):\n",
    "        row = rowSort[i]\n",
    "        argst = row.argsort()\n",
    "        b = gen_eta_sequence(N, eta, draw_type, is_random, rand_seed, near_factor)\n",
    "        for j in range(N):\n",
    "            new_rowSort[i][argst[j]] = b[j]\n",
    "    \n",
    "    L_eta = 1 / new_rowSort\n",
    "    res = (L_eta, new_rowSort, rowSort)\n",
    "    return res if verbose else L_eta"
   ]
  },
  {
   "cell_type": "code",
   "execution_count": 6,
   "metadata": {},
   "outputs": [],
   "source": [
    "def get_title_1(ord, cov_cor, draw_type, eta, N, T, rho, near_factor = None):\n",
    "    title = \"{ord}, {cov_cor} error, {draw_type}, eta=({eta}, {near_factor}), (N, T)=({N}, {T}), rho={rho}\".format(\n",
    "        ord = ord, cov_cor = cov_cor, draw_type = draw_type, eta = eta, N = N, T = T, rho = rho, near_factor = near_factor)\n",
    "    return title"
   ]
  },
  {
   "cell_type": "code",
   "execution_count": 7,
   "metadata": {},
   "outputs": [],
   "source": [
    "def save_data_fig(x, ord, cov_cor, draw_type, eta, N, T, rho, near_factor = None, \n",
    "                  is_save = False):\n",
    "    x = list(x)\n",
    "    \n",
    "    title = get_title_1(ord, cov_cor, draw_type, eta, N, T, rho, near_factor)\n",
    "    data_path = 'data/' + title + '.txt'\n",
    "    fig_path = 'data/' + title + '.png'\n",
    "    print(data_path)\n",
    "    \n",
    "    old_x = np.loadtxt(fname = data_path, ndmin = 1).tolist() if os.path.exists(data_path) else []\n",
    "    full_x = x + old_x\n",
    "    size = len(full_x)\n",
    "    \n",
    "    plt.figure(figsize = (10, 1))\n",
    "    plt.hist(x = full_x, bins = 100, color = '#0504aa', alpha = 0.7, rwidth = 0.85)\n",
    "    plt.title(title + \", size={}\".format(size))\n",
    "    plt.xlabel(\"error rate\")\n",
    "    plt.ylabel(\"frequency\")\n",
    "    \n",
    "    if is_save:\n",
    "        plt.savefig(fig_path, bbox_inches = 'tight')\n",
    "        np.savetxt(fname = data_path, X = full_x)"
   ]
  },
  {
   "cell_type": "code",
   "execution_count": 8,
   "metadata": {},
   "outputs": [
    {
     "data": {
      "text/plain": [
       "<pyinstrument.session.Session at 0x2d6be330ca0>"
      ]
     },
     "execution_count": 8,
     "metadata": {},
     "output_type": "execute_result"
    }
   ],
   "source": [
    "profiler = Profiler()\n",
    "profiler.start()\n",
    "\n",
    "N = 500\n",
    "T = 50\n",
    "rho = 0.8\n",
    "S = gen_S_AR1(N = N, rho = rho)\n",
    "R = cov2cor(S)\n",
    "\n",
    "seed = 1\n",
    "rng = np.random.RandomState(seed) if 1 else np.random\n",
    "X = rng.multivariate_normal(mean = np.zeros(N), cov = S, size = T)\n",
    "\n",
    "profiler.stop()\n",
    "# profiler.print()"
   ]
  },
  {
   "cell_type": "code",
   "execution_count": 9,
   "metadata": {},
   "outputs": [
    {
     "name": "stdout",
     "output_type": "stream",
     "text": [
      "fro 0.5 near 0.5\n"
     ]
    },
    {
     "data": {
      "image/png": "[encoded data removed]",
      "text/plain": [
       "<Figure size 600x600 with 1 Axes>"
      ]
     },
     "metadata": {},
     "output_type": "display_data"
    },
    {
     "data": {
      "image/png": "[encoded data removed]",
      "text/plain": [
       "<Figure size 640x480 with 1 Axes>"
      ]
     },
     "metadata": {},
     "output_type": "display_data"
    },
    {
     "name": "stdout",
     "output_type": "stream",
     "text": [
      "0 15\n",
      "\n",
      "  _     ._   __/__   _ _  _  _ _/_   Recorded: 15:12:32  Samples:  168427\n",
      " /_//_/// /_\\ / //_// / //_'/ //     Duration: 216.412   CPU time: 511.422\n",
      "/   _/                      v4.4.0\n",
      "\n",
      "Program: d:\\anaconda3\\envs\\simu\\lib\\site-packages\\ipykernel_launcher.py --ip=127.0.0.1 --stdin=9008 --control=9006 --hb=9005 --Session.signature_scheme=\"hmac-sha256\" --Session.key=b\"44d63df3-25c5-4594-a24f-1ffcd2b18d98\" --shell=9007 --transport=\"tcp\" --iopub=9009 --f=c:\\Users\\lx\\AppData\\Roaming\\jupyter\\runtime\\kernel-v2-9772AO2l9NvjZRo3.json\n",
      "\n",
      "216.411 <module>  None\n",
      "├─ 159.510 InfoCorrBand.auto_fit  infoband\\band_info.py:267\n",
      "│  └─ 159.370 InfoCorrBand.k_by_cv  infoband\\band_info.py:139\n",
      "│     └─ 157.688 tmp__loss_func  infoband\\band_info.py:174\n",
      "│        └─ 157.621 InfoCorrBand.__loss_func  infoband\\band_info.py:214\n",
      "│           ├─ 121.889 InfoCorrBand.__init__  infoband\\band_info.py:37\n",
      "│           │  └─ 119.734 InfoCorrBand.feed_info  infoband\\band_info.py:73\n",
      "│           │     ├─ 111.363 InfoCorrBand.__compute_orders  infoband\\band_info.py:88\n",
      "│           │     │  ├─ 91.375 <lambda>  infoband\\band_info.py:99\n",
      "│           │     │  │  ├─ 87.177 argsort  <__array_function__ internals>:177\n",
      "│           │     │  │  │     [14 frames hidden]  <__array_function__ internals>, numpy...\n",
      "│           │     │  │  └─ 4.198 [self]  None\n",
      "│           │     │  └─ 19.980 [self]  None\n",
      "│           │     └─ 8.282 [self]  None\n",
      "│           ├─ 15.548 InfoCorrBand.fit_info_corr_band  infoband\\band_info.py:227\n",
      "│           │  ├─ 9.553 InfoCorrBand.sample_corr  infoband\\band_info.py:115\n",
      "│           │  │  └─ 9.535 corrcoef  <__array_function__ internals>:177\n",
      "│           │  │        [140 frames hidden]  <__array_function__ internals>, numpy...\n",
      "│           │  └─ 5.548 [self]  None\n",
      "│           ├─ 10.291 InfoCorrBand.sample_corr  infoband\\band_info.py:115\n",
      "│           │  └─ 10.228 corrcoef  <__array_function__ internals>:177\n",
      "│           │        [142 frames hidden]  <__array_function__ internals>, numpy...\n",
      "│           └─ 6.823 [self]  None\n",
      "└─ 56.798 gen_L  None\n",
      "   └─ 55.823 gen_eta_sequence  None\n",
      "      ├─ 23.815 [self]  None\n",
      "      ├─ 18.786 <listcomp>  None\n",
      "      ├─ 7.565 RandomState.randint  None\n",
      "      │     [2 frames hidden]  <built-in>\n",
      "      └─ 2.947 sum  None\n",
      "            [2 frames hidden]  <built-in>\n",
      "\n",
      "\n"
     ]
    },
    {
     "data": {
      "image/png": "[encoded data removed]",
      "text/plain": [
       "<Figure size 600x600 with 1 Axes>"
      ]
     },
     "metadata": {},
     "output_type": "display_data"
    },
    {
     "data": {
      "image/png": "[encoded data removed]",
      "text/plain": [
       "<Figure size 640x480 with 1 Axes>"
      ]
     },
     "metadata": {},
     "output_type": "display_data"
    },
    {
     "name": "stdout",
     "output_type": "stream",
     "text": [
      "1 12\n",
      "\n",
      "  _     ._   __/__   _ _  _  _ _/_   Recorded: 15:17:02  Samples:  118357\n",
      " /_//_/// /_\\ / //_// / //_'/ //     Duration: 149.266   CPU time: 387.172\n",
      "/   _/                      v4.4.0\n",
      "\n",
      "Program: d:\\anaconda3\\envs\\simu\\lib\\site-packages\\ipykernel_launcher.py --ip=127.0.0.1 --stdin=9008 --control=9006 --hb=9005 --Session.signature_scheme=\"hmac-sha256\" --Session.key=b\"44d63df3-25c5-4594-a24f-1ffcd2b18d98\" --shell=9007 --transport=\"tcp\" --iopub=9009 --f=c:\\Users\\lx\\AppData\\Roaming\\jupyter\\runtime\\kernel-v2-9772AO2l9NvjZRo3.json\n",
      "\n",
      "149.262 <module>  None\n",
      "├─ 120.090 InfoCorrBand.auto_fit  infoband\\band_info.py:267\n",
      "│  └─ 120.029 InfoCorrBand.k_by_cv  infoband\\band_info.py:139\n",
      "│     └─ 118.934 tmp__loss_func  infoband\\band_info.py:174\n",
      "│        └─ 118.875 InfoCorrBand.__loss_func  infoband\\band_info.py:214\n",
      "│           ├─ 85.934 InfoCorrBand.__init__  infoband\\band_info.py:37\n",
      "│           │  ├─ 84.232 InfoCorrBand.feed_info  infoband\\band_info.py:73\n",
      "│           │  │  ├─ 78.196 InfoCorrBand.__compute_orders  infoband\\band_info.py:88\n",
      "│           │  │  │  ├─ 66.111 <lambda>  infoband\\band_info.py:99\n",
      "│           │  │  │  │  ├─ 63.741 argsort  <__array_function__ internals>:177\n",
      "│           │  │  │  │  │     [14 frames hidden]  <__array_function__ internals>, numpy...\n",
      "│           │  │  │  │  └─ 2.370 [self]  None\n",
      "│           │  │  │  └─ 12.079 [self]  None\n",
      "│           │  │  └─ 5.945 [self]  None\n",
      "│           │  └─ 1.637 eye  numpy\\lib\\twodim_base.py:162\n",
      "│           │        [6 frames hidden]  numpy, <built-in>\n",
      "│           ├─ 16.180 InfoCorrBand.sample_corr  infoband\\band_info.py:115\n",
      "│           │  └─ 16.165 corrcoef  <__array_function__ internals>:177\n",
      "│           │        [120 frames hidden]  <__array_function__ internals>, numpy...\n",
      "│           ├─ 10.887 InfoCorrBand.fit_info_corr_band  infoband\\band_info.py:227\n",
      "│           │  ├─ 6.855 InfoCorrBand.sample_corr  infoband\\band_info.py:115\n",
      "│           │  │  └─ 6.845 corrcoef  <__array_function__ internals>:177\n",
      "│           │  │        [109 frames hidden]  <__array_function__ internals>, numpy...\n",
      "│           │  └─ 3.437 [self]  None\n",
      "│           └─ 4.065 [self]  None\n",
      "└─ 29.113 gen_L  None\n",
      "   └─ 28.452 gen_eta_sequence  None\n",
      "      ├─ 11.216 [self]  None\n",
      "      ├─ 10.613 <listcomp>  None\n",
      "      ├─ 3.495 RandomState.randint  None\n",
      "      │     [2 frames hidden]  <built-in>\n",
      "      └─ 1.690 sum  None\n",
      "            [2 frames hidden]  <built-in>\n",
      "\n",
      "\n"
     ]
    },
    {
     "ename": "KeyboardInterrupt",
     "evalue": "",
     "output_type": "error",
     "traceback": [
      "\u001b[1;31m---------------------------------------------------------------------------\u001b[0m",
      "\u001b[1;31mKeyboardInterrupt\u001b[0m                         Traceback (most recent call last)",
      "Cell \u001b[1;32mIn [9], line 13\u001b[0m\n\u001b[0;32m     10\u001b[0m profiler \u001b[39m=\u001b[39m Profiler()\n\u001b[0;32m     11\u001b[0m profiler\u001b[39m.\u001b[39mstart()\n\u001b[1;32m---> 13\u001b[0m L \u001b[39m=\u001b[39m gen_L(S, eta, draw_type \u001b[39m=\u001b[39;49m draw_type, is_random \u001b[39m=\u001b[39;49m \u001b[39m0\u001b[39;49m, near_factor \u001b[39m=\u001b[39;49m near_factor, rand_seed \u001b[39m=\u001b[39;49m i)\n\u001b[0;32m     14\u001b[0m c \u001b[39m=\u001b[39m InfoCorrBand(X, L, \u001b[39m50\u001b[39m)\n\u001b[0;32m     15\u001b[0m R_est, S_est, k \u001b[39m=\u001b[39m c\u001b[39m.\u001b[39mauto_fit()\n",
      "Cell \u001b[1;32mIn [5], line 13\u001b[0m, in \u001b[0;36mgen_L\u001b[1;34m(S, eta, verbose, draw_type, is_random, rand_seed, near_factor)\u001b[0m\n\u001b[0;32m     11\u001b[0m row \u001b[39m=\u001b[39m rowSort[i]\n\u001b[0;32m     12\u001b[0m argst \u001b[39m=\u001b[39m row\u001b[39m.\u001b[39margsort()\n\u001b[1;32m---> 13\u001b[0m b \u001b[39m=\u001b[39m gen_eta_sequence(N, eta, draw_type, is_random, rand_seed, near_factor)\n\u001b[0;32m     14\u001b[0m \u001b[39mfor\u001b[39;00m j \u001b[39min\u001b[39;00m \u001b[39mrange\u001b[39m(N):\n\u001b[0;32m     15\u001b[0m     new_rowSort[i][argst[j]] \u001b[39m=\u001b[39m b[j]\n",
      "Cell \u001b[1;32mIn [4], line 27\u001b[0m, in \u001b[0;36mgen_eta_sequence\u001b[1;34m(N, eta, draw_type, is_random, rand_seed, near_factor)\u001b[0m\n\u001b[0;32m     25\u001b[0m th \u001b[39m=\u001b[39m \u001b[39mint\u001b[39m(np\u001b[39m.\u001b[39mceil(eta \u001b[39m*\u001b[39m k))\n\u001b[0;32m     26\u001b[0m \u001b[39m# S^L_k include S^d_{th}\u001b[39;00m\n\u001b[1;32m---> 27\u001b[0m cnt \u001b[39m=\u001b[39m \u001b[39msum\u001b[39m([\u001b[39m1\u001b[39m \u001b[39mif\u001b[39;00m num \u001b[39m<\u001b[39m\u001b[39m=\u001b[39m th \u001b[39melse\u001b[39;00m \u001b[39m0\u001b[39m \u001b[39mfor\u001b[39;00m num \u001b[39min\u001b[39;00m b])\n\u001b[0;32m     28\u001b[0m \u001b[39mif\u001b[39;00m cnt \u001b[39m<\u001b[39m th:\n\u001b[0;32m     29\u001b[0m     \u001b[39mfor\u001b[39;00m next_id \u001b[39min\u001b[39;00m \u001b[39mrange\u001b[39m(\u001b[39m1\u001b[39m, th \u001b[39m+\u001b[39m \u001b[39m1\u001b[39m):\n",
      "Cell \u001b[1;32mIn [4], line 27\u001b[0m, in \u001b[0;36m<listcomp>\u001b[1;34m(.0)\u001b[0m\n\u001b[0;32m     25\u001b[0m th \u001b[39m=\u001b[39m \u001b[39mint\u001b[39m(np\u001b[39m.\u001b[39mceil(eta \u001b[39m*\u001b[39m k))\n\u001b[0;32m     26\u001b[0m \u001b[39m# S^L_k include S^d_{th}\u001b[39;00m\n\u001b[1;32m---> 27\u001b[0m cnt \u001b[39m=\u001b[39m \u001b[39msum\u001b[39m([\u001b[39m1\u001b[39m \u001b[39mif\u001b[39;00m num \u001b[39m<\u001b[39m\u001b[39m=\u001b[39m th \u001b[39melse\u001b[39;00m \u001b[39m0\u001b[39m \u001b[39mfor\u001b[39;00m num \u001b[39min\u001b[39;00m b])\n\u001b[0;32m     28\u001b[0m \u001b[39mif\u001b[39;00m cnt \u001b[39m<\u001b[39m th:\n\u001b[0;32m     29\u001b[0m     \u001b[39mfor\u001b[39;00m next_id \u001b[39min\u001b[39;00m \u001b[39mrange\u001b[39m(\u001b[39m1\u001b[39m, th \u001b[39m+\u001b[39m \u001b[39m1\u001b[39m):\n",
      "\u001b[1;31mKeyboardInterrupt\u001b[0m: "
     ]
    }
   ],
   "source": [
    "for ord in ['fro', 2]:\n",
    "    for eta in [0.5, 0.8, 1]:\n",
    "        for draw_type, near_factor in [('near', 0.5), ('near', 1), ('near', 2), ('random', None)]:\n",
    "            err_cor = []\n",
    "            err_cov = []\n",
    "            \n",
    "            print(ord, eta, draw_type, near_factor)\n",
    "            \n",
    "            for i in range(100): \n",
    "                profiler = Profiler()\n",
    "                profiler.start()\n",
    "                \n",
    "                L = gen_L(S, eta, draw_type = draw_type, is_random = 0, near_factor = near_factor, rand_seed = i)\n",
    "                c = InfoCorrBand(X, L, 50)\n",
    "                R_est, S_est, k = c.auto_fit()\n",
    "                \n",
    "                print(i, k)\n",
    "                profiler.stop()\n",
    "                profiler.print()\n",
    "                \n",
    "                err_cor.append(LA.norm(R - R_est, ord))\n",
    "                err_cov.append(LA.norm(S - S_est, ord))\n",
    "            err_cor = err_cor / LA.norm(R, ord)\n",
    "            err_cov = err_cov / LA.norm(S, ord)\n",
    "            \n",
    "            save_data_fig(err_cor, ord, 'cor', draw_type, eta, N, T, rho, near_factor, is_save = 1)\n",
    "            save_data_fig(err_cov, ord, 'cov', draw_type, eta, N, T, rho, near_factor, is_save = 1)\n",
    "    "
   ]
  },
  {
   "cell_type": "code",
   "execution_count": null,
   "metadata": {},
   "outputs": [
    {
     "name": "stdout",
     "output_type": "stream",
     "text": [
      "15\n",
      "17\n",
      "14\n",
      "13\n",
      "14\n",
      "12\n",
      "15\n",
      "12\n",
      "14\n",
      "14\n",
      "14\n",
      "13\n",
      "13\n",
      "14\n",
      "14\n",
      "15\n",
      "15\n",
      "15\n",
      "12\n",
      "12\n",
      "13\n",
      "11\n",
      "12\n",
      "11\n",
      "16\n",
      "12\n",
      "14\n",
      "16\n",
      "14\n",
      "13\n",
      "12\n",
      "15\n",
      "12\n",
      "12\n",
      "12\n"
     ]
    },
    {
     "ename": "KeyboardInterrupt",
     "evalue": "",
     "output_type": "error",
     "traceback": [
      "\u001b[1;31m---------------------------------------------------------------------------\u001b[0m",
      "\u001b[1;31mKeyboardInterrupt\u001b[0m                         Traceback (most recent call last)",
      "Cell \u001b[1;32mIn [45], line 4\u001b[0m\n\u001b[0;32m      2\u001b[0m c \u001b[39m=\u001b[39m InfoCorrBand(X, L, \u001b[39m50\u001b[39m)\n\u001b[0;32m      3\u001b[0m \u001b[39mfor\u001b[39;00m i \u001b[39min\u001b[39;00m \u001b[39mrange\u001b[39m(\u001b[39m100\u001b[39m):\n\u001b[1;32m----> 4\u001b[0m     \u001b[39mprint\u001b[39m(c\u001b[39m.\u001b[39;49mk_by_cv())\n",
      "File \u001b[1;32md:\\BaiduSyncdisk\\Project\\Co_simu\\infoband\\band_info.py:124\u001b[0m, in \u001b[0;36mInfoCorrBand.k_by_cv\u001b[1;34m(self, cv_option, verbose)\u001b[0m\n\u001b[0;32m    122\u001b[0m         k \u001b[39m+\u001b[39m\u001b[39m=\u001b[39m \u001b[39m1\u001b[39m\n\u001b[0;32m    123\u001b[0m \u001b[39melif\u001b[39;00m cv_option \u001b[39m==\u001b[39m \u001b[39m'\u001b[39m\u001b[39mbrute\u001b[39m\u001b[39m'\u001b[39m:\n\u001b[1;32m--> 124\u001b[0m     score \u001b[39m=\u001b[39m [\u001b[39mself\u001b[39m\u001b[39m.\u001b[39m__loss_func(k) \u001b[39mfor\u001b[39;00m k \u001b[39min\u001b[39;00m \u001b[39mrange\u001b[39m(\u001b[39m1\u001b[39m, N \u001b[39m+\u001b[39m \u001b[39m1\u001b[39m)]\n\u001b[0;32m    125\u001b[0m \u001b[39melse\u001b[39;00m:\n\u001b[0;32m    126\u001b[0m     \u001b[39mraise\u001b[39;00m \u001b[39mException\u001b[39;00m(\u001b[39m\"\u001b[39m\u001b[39mNo such cv_option.\u001b[39m\u001b[39m\"\u001b[39m)\n",
      "File \u001b[1;32md:\\BaiduSyncdisk\\Project\\Co_simu\\infoband\\band_info.py:124\u001b[0m, in \u001b[0;36m<listcomp>\u001b[1;34m(.0)\u001b[0m\n\u001b[0;32m    122\u001b[0m         k \u001b[39m+\u001b[39m\u001b[39m=\u001b[39m \u001b[39m1\u001b[39m\n\u001b[0;32m    123\u001b[0m \u001b[39melif\u001b[39;00m cv_option \u001b[39m==\u001b[39m \u001b[39m'\u001b[39m\u001b[39mbrute\u001b[39m\u001b[39m'\u001b[39m:\n\u001b[1;32m--> 124\u001b[0m     score \u001b[39m=\u001b[39m [\u001b[39mself\u001b[39;49m\u001b[39m.\u001b[39;49m__loss_func(k) \u001b[39mfor\u001b[39;00m k \u001b[39min\u001b[39;00m \u001b[39mrange\u001b[39m(\u001b[39m1\u001b[39m, N \u001b[39m+\u001b[39m \u001b[39m1\u001b[39m)]\n\u001b[0;32m    125\u001b[0m \u001b[39melse\u001b[39;00m:\n\u001b[0;32m    126\u001b[0m     \u001b[39mraise\u001b[39;00m \u001b[39mException\u001b[39;00m(\u001b[39m\"\u001b[39m\u001b[39mNo such cv_option.\u001b[39m\u001b[39m\"\u001b[39m)\n",
      "File \u001b[1;32md:\\BaiduSyncdisk\\Project\\Co_simu\\infoband\\band_info.py:141\u001b[0m, in \u001b[0;36mInfoCorrBand.__loss_func\u001b[1;34m(self, k)\u001b[0m\n\u001b[0;32m    139\u001b[0m     o2 \u001b[39m=\u001b[39m InfoCorrBand(X2, \u001b[39mself\u001b[39m\u001b[39m.\u001b[39mL)\n\u001b[0;32m    140\u001b[0m     R_est1 \u001b[39m=\u001b[39m o1\u001b[39m.\u001b[39mfit_info_corr_band(k)\n\u001b[1;32m--> 141\u001b[0m     R_est2 \u001b[39m=\u001b[39m o2\u001b[39m.\u001b[39;49msample_corr()\n\u001b[0;32m    142\u001b[0m     score_i[i] \u001b[39m=\u001b[39m LA\u001b[39m.\u001b[39mnorm(R_est1 \u001b[39m-\u001b[39m R_est2) \u001b[39m*\u001b[39m\u001b[39m*\u001b[39m \u001b[39m2\u001b[39m\n\u001b[0;32m    143\u001b[0m \u001b[39mreturn\u001b[39;00m score_i\u001b[39m.\u001b[39mmean()\n",
      "File \u001b[1;32md:\\BaiduSyncdisk\\Project\\Co_simu\\infoband\\band_info.py:87\u001b[0m, in \u001b[0;36mInfoCorrBand.sample_corr\u001b[1;34m(self)\u001b[0m\n\u001b[0;32m     86\u001b[0m \u001b[39mdef\u001b[39;00m \u001b[39msample_corr\u001b[39m(\u001b[39mself\u001b[39m):\n\u001b[1;32m---> 87\u001b[0m     \u001b[39mreturn\u001b[39;00m np\u001b[39m.\u001b[39;49mcorrcoef(\u001b[39mself\u001b[39;49m\u001b[39m.\u001b[39;49mX, rowvar \u001b[39m=\u001b[39;49m \u001b[39mFalse\u001b[39;49;00m)\n",
      "File \u001b[1;32m<__array_function__ internals>:180\u001b[0m, in \u001b[0;36mcorrcoef\u001b[1;34m(*args, **kwargs)\u001b[0m\n",
      "File \u001b[1;32md:\\anaconda3\\envs\\simu\\lib\\site-packages\\numpy\\lib\\function_base.py:2845\u001b[0m, in \u001b[0;36mcorrcoef\u001b[1;34m(x, y, rowvar, bias, ddof, dtype)\u001b[0m\n\u001b[0;32m   2841\u001b[0m \u001b[39mif\u001b[39;00m bias \u001b[39mis\u001b[39;00m \u001b[39mnot\u001b[39;00m np\u001b[39m.\u001b[39m_NoValue \u001b[39mor\u001b[39;00m ddof \u001b[39mis\u001b[39;00m \u001b[39mnot\u001b[39;00m np\u001b[39m.\u001b[39m_NoValue:\n\u001b[0;32m   2842\u001b[0m     \u001b[39m# 2015-03-15, 1.10\u001b[39;00m\n\u001b[0;32m   2843\u001b[0m     warnings\u001b[39m.\u001b[39mwarn(\u001b[39m'\u001b[39m\u001b[39mbias and ddof have no effect and are deprecated\u001b[39m\u001b[39m'\u001b[39m,\n\u001b[0;32m   2844\u001b[0m                   \u001b[39mDeprecationWarning\u001b[39;00m, stacklevel\u001b[39m=\u001b[39m\u001b[39m3\u001b[39m)\n\u001b[1;32m-> 2845\u001b[0m c \u001b[39m=\u001b[39m cov(x, y, rowvar, dtype\u001b[39m=\u001b[39;49mdtype)\n\u001b[0;32m   2846\u001b[0m \u001b[39mtry\u001b[39;00m:\n\u001b[0;32m   2847\u001b[0m     d \u001b[39m=\u001b[39m diag(c)\n",
      "File \u001b[1;32m<__array_function__ internals>:180\u001b[0m, in \u001b[0;36mcov\u001b[1;34m(*args, **kwargs)\u001b[0m\n",
      "File \u001b[1;32md:\\anaconda3\\envs\\simu\\lib\\site-packages\\numpy\\lib\\function_base.py:2680\u001b[0m, in \u001b[0;36mcov\u001b[1;34m(m, y, rowvar, bias, ddof, fweights, aweights, dtype)\u001b[0m\n\u001b[0;32m   2677\u001b[0m     \u001b[39melse\u001b[39;00m:\n\u001b[0;32m   2678\u001b[0m         w \u001b[39m*\u001b[39m\u001b[39m=\u001b[39m aweights\n\u001b[1;32m-> 2680\u001b[0m avg, w_sum \u001b[39m=\u001b[39m average(X, axis\u001b[39m=\u001b[39;49m\u001b[39m1\u001b[39;49m, weights\u001b[39m=\u001b[39;49mw, returned\u001b[39m=\u001b[39;49m\u001b[39mTrue\u001b[39;49;00m)\n\u001b[0;32m   2681\u001b[0m w_sum \u001b[39m=\u001b[39m w_sum[\u001b[39m0\u001b[39m]\n\u001b[0;32m   2683\u001b[0m \u001b[39m# Determine the normalization\u001b[39;00m\n",
      "File \u001b[1;32m<__array_function__ internals>:180\u001b[0m, in \u001b[0;36maverage\u001b[1;34m(*args, **kwargs)\u001b[0m\n",
      "File \u001b[1;32md:\\anaconda3\\envs\\simu\\lib\\site-packages\\numpy\\lib\\function_base.py:518\u001b[0m, in \u001b[0;36maverage\u001b[1;34m(a, axis, weights, returned, keepdims)\u001b[0m\n\u001b[0;32m    515\u001b[0m     keepdims_kw \u001b[39m=\u001b[39m {\u001b[39m'\u001b[39m\u001b[39mkeepdims\u001b[39m\u001b[39m'\u001b[39m: keepdims}\n\u001b[0;32m    517\u001b[0m \u001b[39mif\u001b[39;00m weights \u001b[39mis\u001b[39;00m \u001b[39mNone\u001b[39;00m:\n\u001b[1;32m--> 518\u001b[0m     avg \u001b[39m=\u001b[39m a\u001b[39m.\u001b[39mmean(axis, \u001b[39m*\u001b[39m\u001b[39m*\u001b[39mkeepdims_kw)\n\u001b[0;32m    519\u001b[0m     scl \u001b[39m=\u001b[39m avg\u001b[39m.\u001b[39mdtype\u001b[39m.\u001b[39mtype(a\u001b[39m.\u001b[39msize\u001b[39m/\u001b[39mavg\u001b[39m.\u001b[39msize)\n\u001b[0;32m    520\u001b[0m \u001b[39melse\u001b[39;00m:\n",
      "File \u001b[1;32md:\\anaconda3\\envs\\simu\\lib\\site-packages\\numpy\\core\\_methods.py:180\u001b[0m, in \u001b[0;36m_mean\u001b[1;34m(a, axis, dtype, out, keepdims, where)\u001b[0m\n\u001b[0;32m    177\u001b[0m         dtype \u001b[39m=\u001b[39m mu\u001b[39m.\u001b[39mdtype(\u001b[39m'\u001b[39m\u001b[39mf4\u001b[39m\u001b[39m'\u001b[39m)\n\u001b[0;32m    178\u001b[0m         is_float16_result \u001b[39m=\u001b[39m \u001b[39mTrue\u001b[39;00m\n\u001b[1;32m--> 180\u001b[0m ret \u001b[39m=\u001b[39m umr_sum(arr, axis, dtype, out, keepdims, where\u001b[39m=\u001b[39;49mwhere)\n\u001b[0;32m    181\u001b[0m \u001b[39mif\u001b[39;00m \u001b[39misinstance\u001b[39m(ret, mu\u001b[39m.\u001b[39mndarray):\n\u001b[0;32m    182\u001b[0m     ret \u001b[39m=\u001b[39m um\u001b[39m.\u001b[39mtrue_divide(\n\u001b[0;32m    183\u001b[0m             ret, rcount, out\u001b[39m=\u001b[39mret, casting\u001b[39m=\u001b[39m\u001b[39m'\u001b[39m\u001b[39munsafe\u001b[39m\u001b[39m'\u001b[39m, subok\u001b[39m=\u001b[39m\u001b[39mFalse\u001b[39;00m)\n",
      "\u001b[1;31mKeyboardInterrupt\u001b[0m: "
     ]
    }
   ],
   "source": [
    "L = gen_L(S, 1, draw_type = 'near', is_random = 1, near_factor = 0.5)\n",
    "c = InfoCorrBand(X, L, 50)\n",
    "for i in range(100):\n",
    "    print(c.k_by_cv())"
   ]
  },
  {
   "cell_type": "code",
   "execution_count": null,
   "metadata": {},
   "outputs": [
    {
     "data": {
      "text/plain": [
       "16"
      ]
     },
     "execution_count": 27,
     "metadata": {},
     "output_type": "execute_result"
    }
   ],
   "source": [
    "L = gen_L(S, 0.5, draw_type = 'random', is_random = 1, near_factor = 0.5)\n",
    "c = InfoCorrBand(X, L)\n",
    "c.k_by_cv()"
   ]
  },
  {
   "cell_type": "code",
   "execution_count": null,
   "metadata": {},
   "outputs": [],
   "source": []
  },
  {
   "cell_type": "code",
   "execution_count": null,
   "metadata": {},
   "outputs": [],
   "source": []
  },
  {
   "cell_type": "code",
   "execution_count": null,
   "metadata": {},
   "outputs": [],
   "source": []
  },
  {
   "cell_type": "code",
   "execution_count": null,
   "metadata": {},
   "outputs": [],
   "source": []
  },
  {
   "cell_type": "code",
   "execution_count": null,
   "metadata": {},
   "outputs": [],
   "source": [
    "c = InfoCorrBand(X, abs(R))\n",
    "R_est, S_est, k = c.auto_fit()\n",
    "m = Covariance(X)"
   ]
  },
  {
   "cell_type": "code",
   "execution_count": null,
   "metadata": {},
   "outputs": [],
   "source": [
    "def show_rs(S: np.ndarray, \n",
    "            m: Covariance, \n",
    "            ord = 'fro'):\n",
    "    # ord: norm type\n",
    "    R = cov2cor(S)\n",
    "    print(ord)\n",
    "    print('----------'*2)\n",
    "    print('Correlation itself', LA.norm(R, ord))\n",
    "    print('Error:')\n",
    "    print('Sample', LA.norm(cov2cor(m.sample_cov()) - R, ord))\n",
    "    print('Linear Shrinkage', LA.norm(cov2cor(m.lw_lin_shrink()) - R, ord))\n",
    "    print('Nonlinear Shrinkage', LA.norm(cov2cor(m.nonlin_shrink()) - R, ord))\n",
    "    print()\n",
    "    print('Covariance itself', LA.norm(S, ord))\n",
    "    print('Error:')\n",
    "    print('Sample', LA.norm(m.sample_cov() - S, ord))\n",
    "    print('Linear Shrinkage', LA.norm(m.lw_lin_shrink() - S, ord))\n",
    "    print('Nonlinear Shrinkage', LA.norm(m.nonlin_shrink() - S, ord))\n",
    "    print('----------'*2)\n",
    "    return"
   ]
  },
  {
   "cell_type": "code",
   "execution_count": null,
   "metadata": {},
   "outputs": [
    {
     "name": "stdout",
     "output_type": "stream",
     "text": [
      "fro\n",
      "--------------------\n",
      "Correlation itself 21.111111111111114\n",
      "Error:\n",
      "Sample 13.231401569631267\n",
      "Linear Shrinkage 11.297000421859522\n",
      "Nonlinear Shrinkage 11.139533153892547\n",
      "\n",
      "Covariance itself 21.111111111111114\n",
      "Error:\n",
      "Sample 14.207095882388206\n",
      "Linear Shrinkage 11.548327652470334\n",
      "Nonlinear Shrinkage 11.378003250025651\n",
      "--------------------\n",
      "2\n",
      "--------------------\n",
      "Correlation itself 8.852795603006218\n",
      "Error:\n",
      "Sample 5.001028355552231\n",
      "Linear Shrinkage 5.186529766118818\n",
      "Nonlinear Shrinkage 4.906433099633111\n",
      "\n",
      "Covariance itself 8.852795603006218\n",
      "Error:\n",
      "Sample 6.573601962633309\n",
      "Linear Shrinkage 5.306557621680217\n",
      "Nonlinear Shrinkage 4.989438069147731\n",
      "--------------------\n"
     ]
    }
   ],
   "source": [
    "show_rs(S, m, 'fro')\n",
    "show_rs(S, m, 2)\n",
    "# show_rs(S, m, 1)"
   ]
  },
  {
   "cell_type": "markdown",
   "metadata": {},
   "source": [
    "# ----------------------------\n",
    "plot the distribution of error rates"
   ]
  },
  {
   "cell_type": "code",
   "execution_count": null,
   "metadata": {},
   "outputs": [],
   "source": [
    "# res1 = []\n",
    "# res2 = []"
   ]
  },
  {
   "cell_type": "code",
   "execution_count": null,
   "metadata": {},
   "outputs": [
    {
     "name": "stdout",
     "output_type": "stream",
     "text": [
      "20\n",
      "18\n",
      "18\n",
      "6\n",
      "17\n",
      "15\n",
      "19\n",
      "19\n",
      "6\n",
      "10\n",
      "6\n",
      "7\n",
      "7\n",
      "16\n",
      "22\n",
      "24\n",
      "19\n",
      "17\n",
      "4\n",
      "7\n",
      "16\n",
      "20\n",
      "3\n",
      "17\n",
      "21\n",
      "25\n",
      "6\n",
      "7\n",
      "8\n",
      "22\n",
      "5\n",
      "23\n",
      "16\n",
      "21\n",
      "21\n",
      "14\n",
      "4\n"
     ]
    },
    {
     "ename": "KeyboardInterrupt",
     "evalue": "",
     "output_type": "error",
     "traceback": [
      "\u001b[1;31m---------------------------------------------------------------------------\u001b[0m",
      "\u001b[1;31mKeyboardInterrupt\u001b[0m                         Traceback (most recent call last)",
      "Cell \u001b[1;32mIn [71], line 6\u001b[0m\n\u001b[0;32m      4\u001b[0m c1 \u001b[39m=\u001b[39m InfoCorrBand(X \u001b[39m=\u001b[39m X, L \u001b[39m=\u001b[39m L1, num_cv \u001b[39m=\u001b[39m \u001b[39m20\u001b[39m)\n\u001b[0;32m      5\u001b[0m \u001b[39m# R_est1, S_est1, k1 = c1.auto_fit()\u001b[39;00m\n\u001b[1;32m----> 6\u001b[0m res \u001b[39m=\u001b[39m c1\u001b[39m.\u001b[39;49mauto_fit()\n\u001b[0;32m      7\u001b[0m res1\u001b[39m.\u001b[39mappend(res)\n\u001b[0;32m      8\u001b[0m \u001b[39mprint\u001b[39m(res[\u001b[39m2\u001b[39m])\n",
      "File \u001b[1;32md:\\BaiduSyncdisk\\Project\\Co_simu\\infoband\\band_info.py:179\u001b[0m, in \u001b[0;36mauto_fit\u001b[1;34m(self)\u001b[0m\n\u001b[0;32m    176\u001b[0m \u001b[39mdef\u001b[39;00m \u001b[39m__is_pd\u001b[39m(\u001b[39mself\u001b[39m, k) \u001b[39m-\u001b[39m\u001b[39m>\u001b[39m \u001b[39mbool\u001b[39m:\n\u001b[0;32m    177\u001b[0m     \u001b[39mreturn\u001b[39;00m np\u001b[39m.\u001b[39mlinalg\u001b[39m.\u001b[39meigvals(\u001b[39mself\u001b[39m\u001b[39m.\u001b[39mfit_info_corr_band(k))[\u001b[39m-\u001b[39m\u001b[39m1\u001b[39m] \u001b[39m>\u001b[39m \u001b[39mself\u001b[39m\u001b[39m.\u001b[39meps\n\u001b[1;32m--> 179\u001b[0m \u001b[39mdef\u001b[39;00m \u001b[39mauto_fit\u001b[39m(\u001b[39mself\u001b[39m):\n\u001b[0;32m    180\u001b[0m     k \u001b[39m=\u001b[39m \u001b[39mself\u001b[39m\u001b[39m.\u001b[39mk_by_cv()\n\u001b[0;32m    181\u001b[0m     \u001b[39mreturn\u001b[39;00m \u001b[39mself\u001b[39m\u001b[39m.\u001b[39mfit_info_corr_band(k), \u001b[39mself\u001b[39m\u001b[39m.\u001b[39mfit_info_cov_band(k), k\n",
      "File \u001b[1;32md:\\BaiduSyncdisk\\Project\\Co_simu\\infoband\\band_info.py:121\u001b[0m, in \u001b[0;36mInfoCorrBand.k_by_cv\u001b[1;34m(self, cv_option, verbose)\u001b[0m\n\u001b[0;32m    119\u001b[0m     \u001b[39mif\u001b[39;00m \u001b[39mnot\u001b[39;00m \u001b[39mself\u001b[39m\u001b[39m.\u001b[39m__is_pd(k):\n\u001b[0;32m    120\u001b[0m         \u001b[39mbreak\u001b[39;00m\n\u001b[1;32m--> 121\u001b[0m     score\u001b[39m.\u001b[39mappend(\u001b[39mself\u001b[39;49m\u001b[39m.\u001b[39;49m__loss_func(k))\n\u001b[0;32m    122\u001b[0m     k \u001b[39m+\u001b[39m\u001b[39m=\u001b[39m \u001b[39m1\u001b[39m\n\u001b[0;32m    123\u001b[0m score \u001b[39m=\u001b[39m np\u001b[39m.\u001b[39marray(score)\n",
      "File \u001b[1;32md:\\BaiduSyncdisk\\Project\\Co_simu\\infoband\\band_info.py:135\u001b[0m, in \u001b[0;36m__loss_func\u001b[1;34m(self, k)\u001b[0m\n\u001b[0;32m    133\u001b[0m score_i \u001b[39m=\u001b[39m np\u001b[39m.\u001b[39mzeros(v)\n\u001b[0;32m    134\u001b[0m \u001b[39mfor\u001b[39;00m i \u001b[39min\u001b[39;00m \u001b[39mrange\u001b[39m(v):\n\u001b[1;32m--> 135\u001b[0m     X1, X2 \u001b[39m=\u001b[39m train_test_split(\u001b[39mself\u001b[39m\u001b[39m.\u001b[39mX, test_size \u001b[39m=\u001b[39m \u001b[39mself\u001b[39m\u001b[39m.\u001b[39mtest_size)\n\u001b[0;32m    136\u001b[0m     o1 \u001b[39m=\u001b[39m InfoCorrBand(X1, \u001b[39mself\u001b[39m\u001b[39m.\u001b[39mL)\n\u001b[0;32m    137\u001b[0m     o2 \u001b[39m=\u001b[39m InfoCorrBand(X2, \u001b[39mself\u001b[39m\u001b[39m.\u001b[39mL)\n",
      "File \u001b[1;32md:\\BaiduSyncdisk\\Project\\Co_simu\\infoband\\band_info.py:40\u001b[0m, in \u001b[0;36mInfoCorrBand.__init__\u001b[1;34m(self, X, L, num_cv, test_size)\u001b[0m\n\u001b[0;32m     38\u001b[0m \u001b[39mself\u001b[39m\u001b[39m.\u001b[39mrowSort \u001b[39m=\u001b[39m \u001b[39mNone\u001b[39;00m\n\u001b[0;32m     39\u001b[0m \u001b[39mself\u001b[39m\u001b[39m.\u001b[39mfeed_info(L)\n\u001b[1;32m---> 40\u001b[0m \u001b[39mself\u001b[39m\u001b[39m.\u001b[39mI \u001b[39m=\u001b[39m np\u001b[39m.\u001b[39;49meye(\u001b[39mself\u001b[39;49m\u001b[39m.\u001b[39;49mN)\n\u001b[0;32m     41\u001b[0m \u001b[39m'''\u001b[39;00m\n\u001b[0;32m     42\u001b[0m \u001b[39m# NO NEED. \u001b[39;00m\n\u001b[0;32m     43\u001b[0m \u001b[39m# uniformity class parameter. \u001b[39;00m\n\u001b[1;32m   (...)\u001b[0m\n\u001b[0;32m     46\u001b[0m \u001b[39mself.scaling_factor = (np.log(self.N) / self.T) ** (-q / (2*alpha + 2))\u001b[39;00m\n\u001b[0;32m     47\u001b[0m \u001b[39m'''\u001b[39;00m\n\u001b[0;32m     48\u001b[0m \u001b[39mself\u001b[39m\u001b[39m.\u001b[39mnum_cv \u001b[39m=\u001b[39m num_cv\n",
      "File \u001b[1;32md:\\anaconda3\\envs\\simu\\lib\\site-packages\\numpy\\lib\\twodim_base.py:215\u001b[0m, in \u001b[0;36meye\u001b[1;34m(N, M, k, dtype, order, like)\u001b[0m\n\u001b[0;32m    213\u001b[0m \u001b[39mif\u001b[39;00m M \u001b[39mis\u001b[39;00m \u001b[39mNone\u001b[39;00m:\n\u001b[0;32m    214\u001b[0m     M \u001b[39m=\u001b[39m N\n\u001b[1;32m--> 215\u001b[0m m \u001b[39m=\u001b[39m zeros((N, M), dtype\u001b[39m=\u001b[39;49mdtype, order\u001b[39m=\u001b[39;49morder)\n\u001b[0;32m    216\u001b[0m \u001b[39mif\u001b[39;00m k \u001b[39m>\u001b[39m\u001b[39m=\u001b[39m M:\n\u001b[0;32m    217\u001b[0m     \u001b[39mreturn\u001b[39;00m m\n",
      "\u001b[1;31mKeyboardInterrupt\u001b[0m: "
     ]
    }
   ],
   "source": [
    "for i in range(200):\n",
    "    L1 = gen_L(S, eta = 0.5, verbose = 0, \n",
    "            draw_type = 'near', is_random = 1)\n",
    "    c1 = InfoCorrBand(X = X, L = L1, num_cv = 20)\n",
    "    # R_est1, S_est1, k1 = c1.auto_fit()\n",
    "    res = c1.auto_fit()\n",
    "    res1.append(res)\n",
    "    # print(res[2])"
   ]
  },
  {
   "cell_type": "markdown",
   "metadata": {},
   "source": [
    "# --------------------"
   ]
  },
  {
   "cell_type": "code",
   "execution_count": null,
   "metadata": {},
   "outputs": [
    {
     "name": "stdout",
     "output_type": "stream",
     "text": [
      "fro cor\n",
      "5.3547379898153045\n",
      "6.452088354585957\n",
      "12.623341873998882\n",
      "fro cov\n",
      "8.20827979110684\n",
      "8.9617152976866\n",
      "13.40982410842072\n",
      "2 cor\n",
      "1.7832402677573187\n",
      "1.769745999552205\n",
      "4.998685228078624\n",
      "2 cov\n",
      "4.977860270444561\n",
      "4.96973660159217\n",
      "5.091390155453619\n",
      "1 cor\n",
      "3.9752892005894385\n",
      "4.283611905894455\n",
      "6.733673932336882\n",
      "1 cov\n",
      "8.690140091661135\n",
      "8.734167335328328\n",
      "8.482216067368222\n"
     ]
    }
   ],
   "source": [
    "for ord in ['fro', 2, 1]:\n",
    "    print(ord, 'cor')\n",
    "    print(LA.norm(R - R_est, ord))\n",
    "    print(LA.norm(R - R_est1, ord))\n",
    "    print(LA.norm(R - R_est2, ord))\n",
    "    print(ord, 'cov')\n",
    "    print(LA.norm(S - S_est, ord))\n",
    "    print(LA.norm(S - S_est1, ord))\n",
    "    print(LA.norm(S - S_est2, ord))"
   ]
  },
  {
   "cell_type": "code",
   "execution_count": null,
   "metadata": {},
   "outputs": [
    {
     "data": {
      "text/html": [
       "<div>\n",
       "<style scoped>\n",
       "    .dataframe tbody tr th:only-of-type {\n",
       "        vertical-align: middle;\n",
       "    }\n",
       "\n",
       "    .dataframe tbody tr th {\n",
       "        vertical-align: top;\n",
       "    }\n",
       "\n",
       "    .dataframe thead th {\n",
       "        text-align: right;\n",
       "    }\n",
       "</style>\n",
       "<table border=\"1\" class=\"dataframe\">\n",
       "  <thead>\n",
       "    <tr style=\"text-align: right;\">\n",
       "      <th></th>\n",
       "      <th>a</th>\n",
       "    </tr>\n",
       "  </thead>\n",
       "  <tbody>\n",
       "    <tr>\n",
       "      <th>0</th>\n",
       "      <td>[2, 3]</td>\n",
       "    </tr>\n",
       "    <tr>\n",
       "      <th>1</th>\n",
       "      <td>2</td>\n",
       "    </tr>\n",
       "    <tr>\n",
       "      <th>2</th>\n",
       "      <td>3</td>\n",
       "    </tr>\n",
       "  </tbody>\n",
       "</table>\n",
       "</div>"
      ],
      "text/plain": [
       "        a\n",
       "0  [2, 3]\n",
       "1       2\n",
       "2       3"
      ]
     },
     "execution_count": 15,
     "metadata": {},
     "output_type": "execute_result"
    }
   ],
   "source": [
    "df = pd.DataFrame({'a':[[2,3],2,3]})\n",
    "df"
   ]
  },
  {
   "cell_type": "code",
   "execution_count": null,
   "metadata": {},
   "outputs": [],
   "source": [
    "# heatmap(R)\n",
    "# heatmap(R_est)\n",
    "# heatmap(R_est1)\n",
    "# heatmap(R_est2)\n",
    "# heatmap(c.sample_corr())"
   ]
  },
  {
   "cell_type": "code",
   "execution_count": null,
   "metadata": {},
   "outputs": [
    {
     "data": {
      "text/plain": [
       "(array([[1.        , 0.75607612, 0.57857393, ..., 0.        , 0.        ,\n",
       "         0.        ],\n",
       "        [0.75607612, 1.        , 0.81429886, ..., 0.        , 0.        ,\n",
       "         0.        ],\n",
       "        [0.57857393, 0.81429886, 1.        , ..., 0.        , 0.        ,\n",
       "         0.        ],\n",
       "        ...,\n",
       "        [0.        , 0.        , 0.        , ..., 1.        , 0.81889317,\n",
       "         0.66621149],\n",
       "        [0.        , 0.        , 0.        , ..., 0.81889317, 1.        ,\n",
       "         0.84207442],\n",
       "        [0.        , 0.        , 0.        , ..., 0.66621149, 0.84207442,\n",
       "         1.        ]]),\n",
       " array([[1.06586502, 0.75682257, 0.58198612, ..., 0.        , 0.        ,\n",
       "         0.        ],\n",
       "        [0.75682257, 0.94005854, 0.76924368, ..., 0.        , 0.        ,\n",
       "         0.        ],\n",
       "        [0.58198612, 0.76924368, 0.94930403, ..., 0.        , 0.        ,\n",
       "         0.        ],\n",
       "        ...,\n",
       "        [0.        , 0.        , 0.        , ..., 0.98563935, 0.82672521,\n",
       "         0.81246694],\n",
       "        [0.        , 0.        , 0.        , ..., 0.82672521, 1.03406977,\n",
       "         1.05186489],\n",
       "        [0.        , 0.        , 0.        , ..., 0.81246694, 1.05186489,\n",
       "         1.50893011]]),\n",
       " 5)"
      ]
     },
     "execution_count": 21,
     "metadata": {},
     "output_type": "execute_result"
    }
   ],
   "source": [
    "c.auto_fit()"
   ]
  },
  {
   "cell_type": "code",
   "execution_count": null,
   "metadata": {},
   "outputs": [],
   "source": [
    "class time_printer():\n",
    "    def __init__(self):\n",
    "        self.t = time.time()\n",
    "        self.t_next = None\n",
    "        \n",
    "    def tick(self):\n",
    "        self.t_next = time.time()\n",
    "        print(\"    Time Interval: {}\".format(self.t_next - self.t))\n",
    "        self.t = self.t_next"
   ]
  },
  {
   "cell_type": "code",
   "execution_count": null,
   "metadata": {},
   "outputs": [],
   "source": [
    "is_random = False\n",
    "rng = (random if is_random else np.random.RandomState(100)) # 300_300:101. other: 100\n",
    "N = 400\n",
    "T = 300\n",
    "res = []\n",
    "rho_range = [0.8, 0.9, 0.95, 0.99]\n",
    "eta_range = [0.5, 0.8, 1]\n",
    "ord_range = ['fro', 2]\n",
    "near_factor_range = [0.5, 1, 2]\n",
    "tp = time_printer()"
   ]
  },
  {
   "cell_type": "code",
   "execution_count": null,
   "metadata": {},
   "outputs": [
    {
     "name": "stdout",
     "output_type": "stream",
     "text": [
      "400 300\n",
      "rho:  0.8\n",
      "    Time Interval: 0.9151647090911865\n",
      "eta, near_factor:  0.5 0.5\n",
      "    Time Interval: 4.885119199752808\n",
      "    Time Interval: 0.07583808898925781\n"
     ]
    },
    {
     "ename": "KeyboardInterrupt",
     "evalue": "",
     "output_type": "error",
     "traceback": [
      "\u001b[1;31m---------------------------------------------------------------------------\u001b[0m",
      "\u001b[1;31mKeyboardInterrupt\u001b[0m                         Traceback (most recent call last)",
      "Cell \u001b[1;32mIn [24], line 32\u001b[0m\n\u001b[0;32m     28\u001b[0m c \u001b[39m=\u001b[39m InfoCorrBand(X, L)\n\u001b[0;32m     30\u001b[0m tp\u001b[39m.\u001b[39mtick()\n\u001b[1;32m---> 32\u001b[0m R_est, S_est \u001b[39m=\u001b[39m c\u001b[39m.\u001b[39;49mauto_fit()[:\u001b[39m2\u001b[39m]\n\u001b[0;32m     34\u001b[0m tp\u001b[39m.\u001b[39mtick()\n\u001b[0;32m     36\u001b[0m \u001b[39mfor\u001b[39;00m \u001b[39mord\u001b[39m \u001b[39min\u001b[39;00m ord_range:   \n",
      "File \u001b[1;32md:\\BaiduSyncdisk\\Project\\Co_simu\\infoband\\band_info.py:179\u001b[0m, in \u001b[0;36mInfoCorrBand.auto_fit\u001b[1;34m(self)\u001b[0m\n\u001b[0;32m    178\u001b[0m \u001b[39mdef\u001b[39;00m \u001b[39mauto_fit\u001b[39m(\u001b[39mself\u001b[39m):\n\u001b[1;32m--> 179\u001b[0m     k \u001b[39m=\u001b[39m \u001b[39mself\u001b[39;49m\u001b[39m.\u001b[39;49mk_by_cv()\n\u001b[0;32m    180\u001b[0m     \u001b[39mreturn\u001b[39;00m \u001b[39mself\u001b[39m\u001b[39m.\u001b[39mfit_info_corr_band(k), \u001b[39mself\u001b[39m\u001b[39m.\u001b[39mfit_info_cov_band(k), k\n",
      "File \u001b[1;32md:\\BaiduSyncdisk\\Project\\Co_simu\\infoband\\band_info.py:121\u001b[0m, in \u001b[0;36mInfoCorrBand.k_by_cv\u001b[1;34m(self, cv_option, verbose)\u001b[0m\n\u001b[0;32m    119\u001b[0m     \u001b[39mif\u001b[39;00m \u001b[39mnot\u001b[39;00m \u001b[39mself\u001b[39m\u001b[39m.\u001b[39m__is_pd(k):\n\u001b[0;32m    120\u001b[0m         \u001b[39mbreak\u001b[39;00m\n\u001b[1;32m--> 121\u001b[0m     score\u001b[39m.\u001b[39mappend(\u001b[39mself\u001b[39;49m\u001b[39m.\u001b[39;49m__loss_func(k))\n\u001b[0;32m    122\u001b[0m     k \u001b[39m+\u001b[39m\u001b[39m=\u001b[39m \u001b[39m1\u001b[39m\n\u001b[0;32m    123\u001b[0m score \u001b[39m=\u001b[39m np\u001b[39m.\u001b[39marray(score)\n",
      "File \u001b[1;32md:\\BaiduSyncdisk\\Project\\Co_simu\\infoband\\band_info.py:137\u001b[0m, in \u001b[0;36mInfoCorrBand.__loss_func\u001b[1;34m(self, k)\u001b[0m\n\u001b[0;32m    135\u001b[0m o1 \u001b[39m=\u001b[39m InfoCorrBand(X1, \u001b[39mself\u001b[39m\u001b[39m.\u001b[39mL)\n\u001b[0;32m    136\u001b[0m o2 \u001b[39m=\u001b[39m InfoCorrBand(X2, \u001b[39mself\u001b[39m\u001b[39m.\u001b[39mL)\n\u001b[1;32m--> 137\u001b[0m R_est1 \u001b[39m=\u001b[39m o1\u001b[39m.\u001b[39;49mfit_info_corr_band(k)\n\u001b[0;32m    138\u001b[0m R_est2 \u001b[39m=\u001b[39m o2\u001b[39m.\u001b[39msample_corr()\n\u001b[0;32m    139\u001b[0m score_i[i] \u001b[39m=\u001b[39m LA\u001b[39m.\u001b[39mnorm(R_est1 \u001b[39m-\u001b[39m R_est2) \u001b[39m*\u001b[39m\u001b[39m*\u001b[39m \u001b[39m2\u001b[39m\n",
      "File \u001b[1;32md:\\BaiduSyncdisk\\Project\\Co_simu\\infoband\\band_info.py:150\u001b[0m, in \u001b[0;36mInfoCorrBand.fit_info_corr_band\u001b[1;34m(self, k)\u001b[0m\n\u001b[0;32m    148\u001b[0m \u001b[39mfor\u001b[39;00m i \u001b[39min\u001b[39;00m \u001b[39mrange\u001b[39m(N):\n\u001b[0;32m    149\u001b[0m     \u001b[39mfor\u001b[39;00m j \u001b[39min\u001b[39;00m \u001b[39mrange\u001b[39m(N):\n\u001b[1;32m--> 150\u001b[0m         \u001b[39mif\u001b[39;00m \u001b[39mnot\u001b[39;00m (rowSort[i][j] \u001b[39m<\u001b[39;49m\u001b[39m=\u001b[39;49m k \u001b[39mand\u001b[39;00m rowSort[j][i] \u001b[39m<\u001b[39m\u001b[39m=\u001b[39m k):\n\u001b[0;32m    151\u001b[0m             R_est[i][j] \u001b[39m=\u001b[39m \u001b[39m0\u001b[39m\n\u001b[0;32m    152\u001b[0m \u001b[39mreturn\u001b[39;00m R_est\n",
      "\u001b[1;31mKeyboardInterrupt\u001b[0m: "
     ]
    }
   ],
   "source": [
    "print(N, T)\n",
    "for rho in rho_range:\n",
    "    print(\"rho: \", rho)\n",
    "    \n",
    "    S = gen_S_AR1(rho = rho, N = N)\n",
    "    R = cov2cor(S)\n",
    "    X = rng.multivariate_normal(mean = np.zeros(N), cov = S, size = T)\n",
    "    \n",
    "    m = Covariance(X)\n",
    "    S_l = m.lw_lin_shrink()\n",
    "    R_l = cov2cor(S_l)\n",
    "    S_nl = m.nonlin_shrink()\n",
    "    R_nl = cov2cor(S_nl)\n",
    "    \n",
    "    tp.tick()\n",
    "    \n",
    "    for eta in eta_range:\n",
    "        for near_factor in near_factor_range:\n",
    "            print(\"eta, near_factor: \", eta, near_factor)\n",
    "            \n",
    "            L = gen_L(S, eta, \n",
    "                draw_type = 'near', \n",
    "                is_random = is_random, \n",
    "                near_factor = near_factor)   \n",
    "            \n",
    "            tp.tick()\n",
    "                \n",
    "            c = InfoCorrBand(X, L)\n",
    "            \n",
    "            tp.tick()\n",
    "            \n",
    "            R_est, S_est = c.auto_fit()[:2]\n",
    "            \n",
    "            tp.tick()\n",
    "            \n",
    "            for ord in ord_range:   \n",
    "                print(\"ord: \", ord)\n",
    "                \n",
    "                dct_cov = {'group': 'S', \n",
    "                    'norm type': ord, \n",
    "                    'rho': rho, \n",
    "                    'eta': eta, \n",
    "                    'near factor': near_factor, \n",
    "                    'S or R': LA.norm(S, ord), \n",
    "                    'Sample': LA.norm(c.sample_cov() - S, ord), \n",
    "                    'Linear Shrinkage': LA.norm(S_l - S, ord), \n",
    "                    'Nonlinear Shrinkage': LA.norm(S_nl - S, ord), \n",
    "                    'Info Band': LA.norm(S_est - S, ord)}\n",
    "                dct_cor = {'group': 'R', \n",
    "                    'norm type': ord, \n",
    "                    'rho': rho, \n",
    "                    'eta': eta, \n",
    "                    'near factor': near_factor, \n",
    "                    'S or R': LA.norm(R, ord), \n",
    "                    'Sample': LA.norm(c.sample_corr() - R, ord), \n",
    "                    'Linear Shrinkage': LA.norm(R_l - R, ord), \n",
    "                    'Nonlinear Shrinkage': LA.norm(R_nl - R, ord), \n",
    "                    'Info Band': LA.norm(R_est - R, ord)}\n",
    "                res += [dct_cov, dct_cor]\n",
    "                \n",
    "                tp.tick()"
   ]
  },
  {
   "cell_type": "code",
   "execution_count": null,
   "metadata": {},
   "outputs": [],
   "source": [
    "df = pd.DataFrame(res)\n",
    "df"
   ]
  },
  {
   "cell_type": "code",
   "execution_count": null,
   "metadata": {},
   "outputs": [],
   "source": [
    "path = 'resultData/'\n",
    "file_name = 'result_' + str(N) + '-' + str(T) + '.csv'\n",
    "df.to_csv(path + file_name)\n",
    "# df.to_csv(path + file_name, float_format = '%.5f') "
   ]
  },
  {
   "cell_type": "markdown",
   "metadata": {},
   "source": [
    "dataframe 追加模式 https://blog.csdn.net/lost0910/article/details/105321888"
   ]
  },
  {
   "cell_type": "code",
   "execution_count": null,
   "metadata": {},
   "outputs": [],
   "source": []
  },
  {
   "cell_type": "code",
   "execution_count": null,
   "metadata": {},
   "outputs": [],
   "source": []
  },
  {
   "cell_type": "code",
   "execution_count": null,
   "metadata": {},
   "outputs": [],
   "source": []
  },
  {
   "cell_type": "markdown",
   "metadata": {},
   "source": [
    "# test"
   ]
  },
  {
   "cell_type": "code",
   "execution_count": null,
   "metadata": {},
   "outputs": [],
   "source": [
    "N = 400\n",
    "T = 400\n",
    "S = gen_S_AR1(rho = 0.9, N = N)\n",
    "R = cov2cor(S)\n",
    "X = np.random.multivariate_normal(mean = np.zeros(N), cov = S, size = T)\n",
    "m = Covariance(X)\n",
    "S_nl = m.nonlin_shrink()\n",
    "print(S_nl)\n",
    "lam, u = np.linalg.eigh(m.sample_cov())\n",
    "print(lam)"
   ]
  }
 ],
 "metadata": {
  "kernelspec": {
   "display_name": "Python 3.9.13 ('simu')",
   "language": "python",
   "name": "python3"
  },
  "language_info": {
   "codemirror_mode": {
    "name": "ipython",
    "version": 3
   },
   "file_extension": ".py",
   "mimetype": "text/x-python",
   "name": "python",
   "nbconvert_exporter": "python",
   "pygments_lexer": "ipython3",
   "version": "3.9.13"
  },
  "vscode": {
   "interpreter": {
    "hash": "b1f8481d56ce14143e6478182e374bc2468eaf037e4af344af9b6ae85cf11f37"
   }
  }
 },
 "nbformat": 4,
 "nbformat_minor": 2
}
