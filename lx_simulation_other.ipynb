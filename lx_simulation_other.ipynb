{
 "cells": [
  {
   "cell_type": "code",
   "execution_count": 1,
   "metadata": {},
   "outputs": [],
   "source": [
    "import numpy as np\n",
    "from sklearn.datasets import make_sparse_spd_matrix\n",
    "from scipy import linalg as LA\n",
    "import pandas as pd\n",
    "import time, os\n",
    "import matplotlib.pyplot as plt\n",
    "\n",
    "from pyinstrument import Profiler\n",
    "\n",
    "from infoband.band_info import InfoCorrBand\n",
    "from wlpy.covariance import Covariance\n",
    "from utils.adpt_correlation_threshold import AdptCorrThreshold\n",
    "from wlpy.gist import heatmap\n",
    "\n",
    "import warnings\n",
    "warnings.filterwarnings(\"ignore\")\n",
    "\n",
    "from my_api import *"
   ]
  },
  {
   "attachments": {},
   "cell_type": "markdown",
   "metadata": {},
   "source": [
    "# other estimator"
   ]
  },
  {
   "cell_type": "code",
   "execution_count": 2,
   "metadata": {},
   "outputs": [],
   "source": [
    "N_T_range = [100, 300, 500]\n",
    "rho_range = [0.8, 0.95]"
   ]
  },
  {
   "cell_type": "code",
   "execution_count": 3,
   "metadata": {},
   "outputs": [],
   "source": [
    "# df = pd.DataFrame(columns = ['Id', 'Sample', 'Soft Threshold', 'Hard Threshold', 'Linear Shrink', 'Nonlinear Shrink'])"
   ]
  },
  {
   "cell_type": "code",
   "execution_count": 4,
   "metadata": {},
   "outputs": [],
   "source": [
    "df = pd.DataFrame(columns = ['N', 'T', 'rho', 'ord', 'type', 'Sample', 'Soft Threshold', 'Hard Threshold', 'Linear Shrink', 'Nonlinear Shrink'])"
   ]
  },
  {
   "cell_type": "code",
   "execution_count": 5,
   "metadata": {},
   "outputs": [
    {
     "ename": "KeyboardInterrupt",
     "evalue": "",
     "output_type": "error",
     "traceback": [
      "\u001b[1;31m---------------------------------------------------------------------------\u001b[0m",
      "\u001b[1;31mKeyboardInterrupt\u001b[0m                         Traceback (most recent call last)",
      "Cell \u001b[1;32mIn [5], line 18\u001b[0m\n\u001b[0;32m     16\u001b[0m \u001b[39m# other estimator\u001b[39;00m\n\u001b[0;32m     17\u001b[0m R_ths, S_ths, _ \u001b[39m=\u001b[39m m\u001b[39m.\u001b[39mauto_fit(threshold_method \u001b[39m=\u001b[39m \u001b[39m'\u001b[39m\u001b[39msoft threshold\u001b[39m\u001b[39m'\u001b[39m)\n\u001b[1;32m---> 18\u001b[0m R_thh, S_thh, _ \u001b[39m=\u001b[39m m\u001b[39m.\u001b[39;49mauto_fit(threshold_method \u001b[39m=\u001b[39;49m \u001b[39m'\u001b[39;49m\u001b[39mhard threshold\u001b[39;49m\u001b[39m'\u001b[39;49m)\n\u001b[0;32m     19\u001b[0m S_lin, S_sample \u001b[39m=\u001b[39m m\u001b[39m.\u001b[39mlw_lin_shrink(), m\u001b[39m.\u001b[39msample_cov()\n\u001b[0;32m     20\u001b[0m R_lin, R_sample \u001b[39m=\u001b[39m cov2cor(S_lin), cov2cor(S_sample)\n",
      "File \u001b[1;32md:\\BaiduSyncdisk\\Project\\Co_simu_2\\utils\\adpt_correlation_threshold.py:113\u001b[0m, in \u001b[0;36mAdptCorrThreshold.auto_fit\u001b[1;34m(self, threshold_method)\u001b[0m\n\u001b[0;32m    111\u001b[0m     \u001b[39mself\u001b[39m\u001b[39m.\u001b[39mthreshold_method \u001b[39m=\u001b[39m threshold_method\n\u001b[0;32m    112\u001b[0m b \u001b[39m=\u001b[39m \u001b[39mself\u001b[39m\u001b[39m.\u001b[39mfind_smallest_threshold_for_pd()\n\u001b[1;32m--> 113\u001b[0m params \u001b[39m=\u001b[39m \u001b[39mself\u001b[39;49m\u001b[39m.\u001b[39;49mparams_by_cv(\u001b[39m'\u001b[39;49m\u001b[39mpd\u001b[39;49m\u001b[39m'\u001b[39;49m, b)\n\u001b[0;32m    114\u001b[0m R_est \u001b[39m=\u001b[39m \u001b[39mself\u001b[39m\u001b[39m.\u001b[39mfit_adaptive_corr_threshold(params)   \n\u001b[0;32m    115\u001b[0m S_est \u001b[39m=\u001b[39m \u001b[39mself\u001b[39m\u001b[39m.\u001b[39msample_std_diagonal \u001b[39m@\u001b[39m R_est \u001b[39m@\u001b[39m \u001b[39mself\u001b[39m\u001b[39m.\u001b[39msample_std_diagonal\n",
      "File \u001b[1;32md:\\BaiduSyncdisk\\Project\\Co_simu_2\\utils\\adpt_correlation_threshold.py:202\u001b[0m, in \u001b[0;36mAdptCorrThreshold.params_by_cv\u001b[1;34m(self, cv_option, cv_bound, **kwargs)\u001b[0m\n\u001b[0;32m    200\u001b[0m     linear_constraint \u001b[39m=\u001b[39m optimize\u001b[39m.\u001b[39mLinearConstraint([[\u001b[39m1\u001b[39m, \u001b[39m1\u001b[39m], [\u001b[39m1\u001b[39m,\u001b[39m0\u001b[39m], [\u001b[39m0\u001b[39m,\u001b[39m1\u001b[39m]], lb , ub)\n\u001b[0;32m    201\u001b[0m     x0 \u001b[39m=\u001b[39m [\u001b[39m0\u001b[39m,\u001b[39m0\u001b[39m]\n\u001b[1;32m--> 202\u001b[0m     result \u001b[39m=\u001b[39m optimize\u001b[39m.\u001b[39;49mminimize(\u001b[39mself\u001b[39;49m\u001b[39m.\u001b[39;49mloss_func, x0, method\u001b[39m=\u001b[39;49m\u001b[39m\"\u001b[39;49m\u001b[39mtrust-constr\u001b[39;49m\u001b[39m\"\u001b[39;49m, constraints\u001b[39m=\u001b[39;49m[linear_constraint],options\u001b[39m=\u001b[39;49m{\u001b[39m\"\u001b[39;49m\u001b[39mverbose\u001b[39;49m\u001b[39m\"\u001b[39;49m:\u001b[39m0\u001b[39;49m})\u001b[39m.\u001b[39mx\n\u001b[0;32m    203\u001b[0m \u001b[39melse\u001b[39;00m: \n\u001b[0;32m    204\u001b[0m     result \u001b[39m=\u001b[39m \u001b[39mNone\u001b[39;00m\n",
      "File \u001b[1;32md:\\anaconda3\\envs\\simu\\lib\\site-packages\\scipy\\optimize\\_minimize.py:711\u001b[0m, in \u001b[0;36mminimize\u001b[1;34m(fun, x0, args, method, jac, hess, hessp, bounds, constraints, tol, callback, options)\u001b[0m\n\u001b[0;32m    708\u001b[0m     res \u001b[39m=\u001b[39m _minimize_slsqp(fun, x0, args, jac, bounds,\n\u001b[0;32m    709\u001b[0m                           constraints, callback\u001b[39m=\u001b[39mcallback, \u001b[39m*\u001b[39m\u001b[39m*\u001b[39moptions)\n\u001b[0;32m    710\u001b[0m \u001b[39melif\u001b[39;00m meth \u001b[39m==\u001b[39m \u001b[39m'\u001b[39m\u001b[39mtrust-constr\u001b[39m\u001b[39m'\u001b[39m:\n\u001b[1;32m--> 711\u001b[0m     res \u001b[39m=\u001b[39m _minimize_trustregion_constr(fun, x0, args, jac, hess, hessp,\n\u001b[0;32m    712\u001b[0m                                        bounds, constraints,\n\u001b[0;32m    713\u001b[0m                                        callback\u001b[39m=\u001b[39mcallback, \u001b[39m*\u001b[39m\u001b[39m*\u001b[39moptions)\n\u001b[0;32m    714\u001b[0m \u001b[39melif\u001b[39;00m meth \u001b[39m==\u001b[39m \u001b[39m'\u001b[39m\u001b[39mdogleg\u001b[39m\u001b[39m'\u001b[39m:\n\u001b[0;32m    715\u001b[0m     res \u001b[39m=\u001b[39m _minimize_dogleg(fun, x0, args, jac, hess,\n\u001b[0;32m    716\u001b[0m                            callback\u001b[39m=\u001b[39mcallback, \u001b[39m*\u001b[39m\u001b[39m*\u001b[39moptions)\n",
      "File \u001b[1;32md:\\anaconda3\\envs\\simu\\lib\\site-packages\\scipy\\optimize\\_trustregion_constr\\minimize_trustregion_constr.py:509\u001b[0m, in \u001b[0;36m_minimize_trustregion_constr\u001b[1;34m(fun, x0, args, grad, hess, hessp, bounds, constraints, xtol, gtol, barrier_tol, sparse_jacobian, callback, maxiter, verbose, finite_diff_rel_step, initial_constr_penalty, initial_tr_radius, initial_barrier_parameter, initial_barrier_tolerance, factorization_method, disp)\u001b[0m\n\u001b[0;32m    500\u001b[0m     _, result \u001b[39m=\u001b[39m equality_constrained_sqp(\n\u001b[0;32m    501\u001b[0m         fun_and_constr, grad_and_jac, lagrangian_hess,\n\u001b[0;32m    502\u001b[0m         x0, objective\u001b[39m.\u001b[39mf, objective\u001b[39m.\u001b[39mg,\n\u001b[1;32m   (...)\u001b[0m\n\u001b[0;32m    505\u001b[0m         initial_constr_penalty, initial_tr_radius,\n\u001b[0;32m    506\u001b[0m         factorization_method)\n\u001b[0;32m    508\u001b[0m \u001b[39melif\u001b[39;00m method \u001b[39m==\u001b[39m \u001b[39m'\u001b[39m\u001b[39mtr_interior_point\u001b[39m\u001b[39m'\u001b[39m:\n\u001b[1;32m--> 509\u001b[0m     _, result \u001b[39m=\u001b[39m tr_interior_point(\n\u001b[0;32m    510\u001b[0m         objective\u001b[39m.\u001b[39;49mfun, objective\u001b[39m.\u001b[39;49mgrad, lagrangian_hess,\n\u001b[0;32m    511\u001b[0m         n_vars, canonical\u001b[39m.\u001b[39;49mn_ineq, canonical\u001b[39m.\u001b[39;49mn_eq,\n\u001b[0;32m    512\u001b[0m         canonical\u001b[39m.\u001b[39;49mfun, canonical\u001b[39m.\u001b[39;49mjac,\n\u001b[0;32m    513\u001b[0m         x0, objective\u001b[39m.\u001b[39;49mf, objective\u001b[39m.\u001b[39;49mg,\n\u001b[0;32m    514\u001b[0m         c_ineq0, J_ineq0, c_eq0, J_eq0,\n\u001b[0;32m    515\u001b[0m         stop_criteria,\n\u001b[0;32m    516\u001b[0m         canonical\u001b[39m.\u001b[39;49mkeep_feasible,\n\u001b[0;32m    517\u001b[0m         xtol, state, initial_barrier_parameter,\n\u001b[0;32m    518\u001b[0m         initial_barrier_tolerance,\n\u001b[0;32m    519\u001b[0m         initial_constr_penalty, initial_tr_radius,\n\u001b[0;32m    520\u001b[0m         factorization_method)\n\u001b[0;32m    522\u001b[0m \u001b[39m# Status 3 occurs when the callback function requests termination,\u001b[39;00m\n\u001b[0;32m    523\u001b[0m \u001b[39m# this is assumed to not be a success.\u001b[39;00m\n\u001b[0;32m    524\u001b[0m result\u001b[39m.\u001b[39msuccess \u001b[39m=\u001b[39m \u001b[39mTrue\u001b[39;00m \u001b[39mif\u001b[39;00m result\u001b[39m.\u001b[39mstatus \u001b[39min\u001b[39;00m (\u001b[39m1\u001b[39m, \u001b[39m2\u001b[39m) \u001b[39melse\u001b[39;00m \u001b[39mFalse\u001b[39;00m\n",
      "File \u001b[1;32md:\\anaconda3\\envs\\simu\\lib\\site-packages\\scipy\\optimize\\_trustregion_constr\\tr_interior_point.py:321\u001b[0m, in \u001b[0;36mtr_interior_point\u001b[1;34m(fun, grad, lagr_hess, n_vars, n_ineq, n_eq, constr, jac, x0, fun0, grad0, constr_ineq0, jac_ineq0, constr_eq0, jac_eq0, stop_criteria, enforce_feasibility, xtol, state, initial_barrier_parameter, initial_tolerance, initial_penalty, initial_trust_radius, factorization_method)\u001b[0m\n\u001b[0;32m    318\u001b[0m \u001b[39m# Solves a sequence of barrier problems\u001b[39;00m\n\u001b[0;32m    319\u001b[0m \u001b[39mwhile\u001b[39;00m \u001b[39mTrue\u001b[39;00m:\n\u001b[0;32m    320\u001b[0m     \u001b[39m# Solve SQP subproblem\u001b[39;00m\n\u001b[1;32m--> 321\u001b[0m     z, state \u001b[39m=\u001b[39m equality_constrained_sqp(\n\u001b[0;32m    322\u001b[0m         subprob\u001b[39m.\u001b[39;49mfunction_and_constraints,\n\u001b[0;32m    323\u001b[0m         subprob\u001b[39m.\u001b[39;49mgradient_and_jacobian,\n\u001b[0;32m    324\u001b[0m         subprob\u001b[39m.\u001b[39;49mlagrangian_hessian,\n\u001b[0;32m    325\u001b[0m         z, fun0_subprob, grad0_subprob,\n\u001b[0;32m    326\u001b[0m         constr0_subprob, jac0_subprob, subprob\u001b[39m.\u001b[39;49mstop_criteria,\n\u001b[0;32m    327\u001b[0m         state, initial_penalty, trust_radius,\n\u001b[0;32m    328\u001b[0m         factorization_method, trust_lb, trust_ub, subprob\u001b[39m.\u001b[39;49mscaling)\n\u001b[0;32m    329\u001b[0m     \u001b[39mif\u001b[39;00m subprob\u001b[39m.\u001b[39mterminate:\n\u001b[0;32m    330\u001b[0m         \u001b[39mbreak\u001b[39;00m\n",
      "File \u001b[1;32md:\\anaconda3\\envs\\simu\\lib\\site-packages\\scipy\\optimize\\_trustregion_constr\\equality_constrained_sqp.py:147\u001b[0m, in \u001b[0;36mequality_constrained_sqp\u001b[1;34m(fun_and_constr, grad_and_jac, lagr_hess, x0, fun0, grad0, constr0, jac0, stop_criteria, state, initial_penalty, initial_trust_radius, factorization_method, trust_lb, trust_ub, scaling)\u001b[0m\n\u001b[0;32m    145\u001b[0m \u001b[39m# Evaluate function and constraints at trial point\u001b[39;00m\n\u001b[0;32m    146\u001b[0m x_next \u001b[39m=\u001b[39m x \u001b[39m+\u001b[39m S\u001b[39m.\u001b[39mdot(d)\n\u001b[1;32m--> 147\u001b[0m f_next, b_next \u001b[39m=\u001b[39m fun_and_constr(x_next)\n\u001b[0;32m    148\u001b[0m \u001b[39m# Compute merit function at trial point\u001b[39;00m\n\u001b[0;32m    149\u001b[0m merit_function_next \u001b[39m=\u001b[39m f_next \u001b[39m+\u001b[39m penalty\u001b[39m*\u001b[39mnorm(b_next)\n",
      "File \u001b[1;32md:\\anaconda3\\envs\\simu\\lib\\site-packages\\scipy\\optimize\\_trustregion_constr\\tr_interior_point.py:82\u001b[0m, in \u001b[0;36mBarrierSubproblem.function_and_constraints\u001b[1;34m(self, z)\u001b[0m\n\u001b[0;32m     80\u001b[0m s \u001b[39m=\u001b[39m \u001b[39mself\u001b[39m\u001b[39m.\u001b[39mget_slack(z)\n\u001b[0;32m     81\u001b[0m \u001b[39m# Compute function and constraints\u001b[39;00m\n\u001b[1;32m---> 82\u001b[0m f \u001b[39m=\u001b[39m \u001b[39mself\u001b[39;49m\u001b[39m.\u001b[39;49mfun(x)\n\u001b[0;32m     83\u001b[0m c_eq, c_ineq \u001b[39m=\u001b[39m \u001b[39mself\u001b[39m\u001b[39m.\u001b[39mconstr(x)\n\u001b[0;32m     84\u001b[0m \u001b[39m# Return objective function and constraints\u001b[39;00m\n",
      "File \u001b[1;32md:\\anaconda3\\envs\\simu\\lib\\site-packages\\scipy\\optimize\\_differentiable_functions.py:266\u001b[0m, in \u001b[0;36mScalarFunction.fun\u001b[1;34m(self, x)\u001b[0m\n\u001b[0;32m    264\u001b[0m \u001b[39mdef\u001b[39;00m \u001b[39mfun\u001b[39m(\u001b[39mself\u001b[39m, x):\n\u001b[0;32m    265\u001b[0m     \u001b[39mif\u001b[39;00m \u001b[39mnot\u001b[39;00m np\u001b[39m.\u001b[39marray_equal(x, \u001b[39mself\u001b[39m\u001b[39m.\u001b[39mx):\n\u001b[1;32m--> 266\u001b[0m         \u001b[39mself\u001b[39;49m\u001b[39m.\u001b[39;49m_update_x_impl(x)\n\u001b[0;32m    267\u001b[0m     \u001b[39mself\u001b[39m\u001b[39m.\u001b[39m_update_fun()\n\u001b[0;32m    268\u001b[0m     \u001b[39mreturn\u001b[39;00m \u001b[39mself\u001b[39m\u001b[39m.\u001b[39mf\n",
      "File \u001b[1;32md:\\anaconda3\\envs\\simu\\lib\\site-packages\\scipy\\optimize\\_differentiable_functions.py:238\u001b[0m, in \u001b[0;36mScalarFunction.__init__.<locals>.update_x\u001b[1;34m(x)\u001b[0m\n\u001b[0;32m    236\u001b[0m \u001b[39mself\u001b[39m\u001b[39m.\u001b[39mg_updated \u001b[39m=\u001b[39m \u001b[39mFalse\u001b[39;00m\n\u001b[0;32m    237\u001b[0m \u001b[39mself\u001b[39m\u001b[39m.\u001b[39mH_updated \u001b[39m=\u001b[39m \u001b[39mFalse\u001b[39;00m\n\u001b[1;32m--> 238\u001b[0m \u001b[39mself\u001b[39;49m\u001b[39m.\u001b[39;49m_update_hess()\n",
      "File \u001b[1;32md:\\anaconda3\\envs\\simu\\lib\\site-packages\\scipy\\optimize\\_differentiable_functions.py:261\u001b[0m, in \u001b[0;36mScalarFunction._update_hess\u001b[1;34m(self)\u001b[0m\n\u001b[0;32m    259\u001b[0m \u001b[39mdef\u001b[39;00m \u001b[39m_update_hess\u001b[39m(\u001b[39mself\u001b[39m):\n\u001b[0;32m    260\u001b[0m     \u001b[39mif\u001b[39;00m \u001b[39mnot\u001b[39;00m \u001b[39mself\u001b[39m\u001b[39m.\u001b[39mH_updated:\n\u001b[1;32m--> 261\u001b[0m         \u001b[39mself\u001b[39;49m\u001b[39m.\u001b[39;49m_update_hess_impl()\n\u001b[0;32m    262\u001b[0m         \u001b[39mself\u001b[39m\u001b[39m.\u001b[39mH_updated \u001b[39m=\u001b[39m \u001b[39mTrue\u001b[39;00m\n",
      "File \u001b[1;32md:\\anaconda3\\envs\\simu\\lib\\site-packages\\scipy\\optimize\\_differentiable_functions.py:222\u001b[0m, in \u001b[0;36mScalarFunction.__init__.<locals>.update_hess\u001b[1;34m()\u001b[0m\n\u001b[0;32m    221\u001b[0m \u001b[39mdef\u001b[39;00m \u001b[39mupdate_hess\u001b[39m():\n\u001b[1;32m--> 222\u001b[0m     \u001b[39mself\u001b[39;49m\u001b[39m.\u001b[39;49m_update_grad()\n\u001b[0;32m    223\u001b[0m     \u001b[39mself\u001b[39m\u001b[39m.\u001b[39mH\u001b[39m.\u001b[39mupdate(\u001b[39mself\u001b[39m\u001b[39m.\u001b[39mx \u001b[39m-\u001b[39m \u001b[39mself\u001b[39m\u001b[39m.\u001b[39mx_prev, \u001b[39mself\u001b[39m\u001b[39m.\u001b[39mg \u001b[39m-\u001b[39m \u001b[39mself\u001b[39m\u001b[39m.\u001b[39mg_prev)\n",
      "File \u001b[1;32md:\\anaconda3\\envs\\simu\\lib\\site-packages\\scipy\\optimize\\_differentiable_functions.py:256\u001b[0m, in \u001b[0;36mScalarFunction._update_grad\u001b[1;34m(self)\u001b[0m\n\u001b[0;32m    254\u001b[0m \u001b[39mdef\u001b[39;00m \u001b[39m_update_grad\u001b[39m(\u001b[39mself\u001b[39m):\n\u001b[0;32m    255\u001b[0m     \u001b[39mif\u001b[39;00m \u001b[39mnot\u001b[39;00m \u001b[39mself\u001b[39m\u001b[39m.\u001b[39mg_updated:\n\u001b[1;32m--> 256\u001b[0m         \u001b[39mself\u001b[39;49m\u001b[39m.\u001b[39;49m_update_grad_impl()\n\u001b[0;32m    257\u001b[0m         \u001b[39mself\u001b[39m\u001b[39m.\u001b[39mg_updated \u001b[39m=\u001b[39m \u001b[39mTrue\u001b[39;00m\n",
      "File \u001b[1;32md:\\anaconda3\\envs\\simu\\lib\\site-packages\\scipy\\optimize\\_differentiable_functions.py:173\u001b[0m, in \u001b[0;36mScalarFunction.__init__.<locals>.update_grad\u001b[1;34m()\u001b[0m\n\u001b[0;32m    171\u001b[0m \u001b[39mself\u001b[39m\u001b[39m.\u001b[39m_update_fun()\n\u001b[0;32m    172\u001b[0m \u001b[39mself\u001b[39m\u001b[39m.\u001b[39mngev \u001b[39m+\u001b[39m\u001b[39m=\u001b[39m \u001b[39m1\u001b[39m\n\u001b[1;32m--> 173\u001b[0m \u001b[39mself\u001b[39m\u001b[39m.\u001b[39mg \u001b[39m=\u001b[39m approx_derivative(fun_wrapped, \u001b[39mself\u001b[39m\u001b[39m.\u001b[39mx, f0\u001b[39m=\u001b[39m\u001b[39mself\u001b[39m\u001b[39m.\u001b[39mf,\n\u001b[0;32m    174\u001b[0m                            \u001b[39m*\u001b[39m\u001b[39m*\u001b[39mfinite_diff_options)\n",
      "File \u001b[1;32md:\\anaconda3\\envs\\simu\\lib\\site-packages\\scipy\\optimize\\_numdiff.py:505\u001b[0m, in \u001b[0;36mapprox_derivative\u001b[1;34m(fun, x0, method, rel_step, abs_step, f0, bounds, sparsity, as_linear_operator, args, kwargs)\u001b[0m\n\u001b[0;32m    502\u001b[0m     use_one_sided \u001b[39m=\u001b[39m \u001b[39mFalse\u001b[39;00m\n\u001b[0;32m    504\u001b[0m \u001b[39mif\u001b[39;00m sparsity \u001b[39mis\u001b[39;00m \u001b[39mNone\u001b[39;00m:\n\u001b[1;32m--> 505\u001b[0m     \u001b[39mreturn\u001b[39;00m _dense_difference(fun_wrapped, x0, f0, h,\n\u001b[0;32m    506\u001b[0m                              use_one_sided, method)\n\u001b[0;32m    507\u001b[0m \u001b[39melse\u001b[39;00m:\n\u001b[0;32m    508\u001b[0m     \u001b[39mif\u001b[39;00m \u001b[39mnot\u001b[39;00m issparse(sparsity) \u001b[39mand\u001b[39;00m \u001b[39mlen\u001b[39m(sparsity) \u001b[39m==\u001b[39m \u001b[39m2\u001b[39m:\n",
      "File \u001b[1;32md:\\anaconda3\\envs\\simu\\lib\\site-packages\\scipy\\optimize\\_numdiff.py:576\u001b[0m, in \u001b[0;36m_dense_difference\u001b[1;34m(fun, x0, f0, h, use_one_sided, method)\u001b[0m\n\u001b[0;32m    574\u001b[0m     x \u001b[39m=\u001b[39m x0 \u001b[39m+\u001b[39m h_vecs[i]\n\u001b[0;32m    575\u001b[0m     dx \u001b[39m=\u001b[39m x[i] \u001b[39m-\u001b[39m x0[i]  \u001b[39m# Recompute dx as exactly representable number.\u001b[39;00m\n\u001b[1;32m--> 576\u001b[0m     df \u001b[39m=\u001b[39m fun(x) \u001b[39m-\u001b[39m f0\n\u001b[0;32m    577\u001b[0m \u001b[39melif\u001b[39;00m method \u001b[39m==\u001b[39m \u001b[39m'\u001b[39m\u001b[39m3-point\u001b[39m\u001b[39m'\u001b[39m \u001b[39mand\u001b[39;00m use_one_sided[i]:\n\u001b[0;32m    578\u001b[0m     x1 \u001b[39m=\u001b[39m x0 \u001b[39m+\u001b[39m h_vecs[i]\n",
      "File \u001b[1;32md:\\anaconda3\\envs\\simu\\lib\\site-packages\\scipy\\optimize\\_numdiff.py:456\u001b[0m, in \u001b[0;36mapprox_derivative.<locals>.fun_wrapped\u001b[1;34m(x)\u001b[0m\n\u001b[0;32m    455\u001b[0m \u001b[39mdef\u001b[39;00m \u001b[39mfun_wrapped\u001b[39m(x):\n\u001b[1;32m--> 456\u001b[0m     f \u001b[39m=\u001b[39m np\u001b[39m.\u001b[39matleast_1d(fun(x, \u001b[39m*\u001b[39margs, \u001b[39m*\u001b[39m\u001b[39m*\u001b[39mkwargs))\n\u001b[0;32m    457\u001b[0m     \u001b[39mif\u001b[39;00m f\u001b[39m.\u001b[39mndim \u001b[39m>\u001b[39m \u001b[39m1\u001b[39m:\n\u001b[0;32m    458\u001b[0m         \u001b[39mraise\u001b[39;00m \u001b[39mRuntimeError\u001b[39;00m(\u001b[39m\"\u001b[39m\u001b[39m`fun` return value has \u001b[39m\u001b[39m\"\u001b[39m\n\u001b[0;32m    459\u001b[0m                            \u001b[39m\"\u001b[39m\u001b[39mmore than 1 dimension.\u001b[39m\u001b[39m\"\u001b[39m)\n",
      "File \u001b[1;32md:\\anaconda3\\envs\\simu\\lib\\site-packages\\scipy\\optimize\\_differentiable_functions.py:137\u001b[0m, in \u001b[0;36mScalarFunction.__init__.<locals>.fun_wrapped\u001b[1;34m(x)\u001b[0m\n\u001b[0;32m    133\u001b[0m \u001b[39mself\u001b[39m\u001b[39m.\u001b[39mnfev \u001b[39m+\u001b[39m\u001b[39m=\u001b[39m \u001b[39m1\u001b[39m\n\u001b[0;32m    134\u001b[0m \u001b[39m# Send a copy because the user may overwrite it.\u001b[39;00m\n\u001b[0;32m    135\u001b[0m \u001b[39m# Overwriting results in undefined behaviour because\u001b[39;00m\n\u001b[0;32m    136\u001b[0m \u001b[39m# fun(self.x) will change self.x, with the two no longer linked.\u001b[39;00m\n\u001b[1;32m--> 137\u001b[0m fx \u001b[39m=\u001b[39m fun(np\u001b[39m.\u001b[39;49mcopy(x), \u001b[39m*\u001b[39;49margs)\n\u001b[0;32m    138\u001b[0m \u001b[39m# Make sure the function returns a true scalar\u001b[39;00m\n\u001b[0;32m    139\u001b[0m \u001b[39mif\u001b[39;00m \u001b[39mnot\u001b[39;00m np\u001b[39m.\u001b[39misscalar(fx):\n",
      "File \u001b[1;32md:\\BaiduSyncdisk\\Project\\Co_simu_2\\utils\\adpt_correlation_threshold.py:137\u001b[0m, in \u001b[0;36mAdptCorrThreshold.loss_func\u001b[1;34m(self, params)\u001b[0m\n\u001b[0;32m    134\u001b[0m \u001b[39melif\u001b[39;00m \u001b[39mself\u001b[39m\u001b[39m.\u001b[39mcv_split_method \u001b[39m==\u001b[39m \u001b[39m\"\u001b[39m\u001b[39mrandom\u001b[39m\u001b[39m\"\u001b[39m: \u001b[39m# default\u001b[39;00m\n\u001b[0;32m    135\u001b[0m     \u001b[39mfor\u001b[39;00m v \u001b[39min\u001b[39;00m \u001b[39mrange\u001b[39m(V):\n\u001b[0;32m    136\u001b[0m         \u001b[39m# tt.start()\u001b[39;00m\n\u001b[1;32m--> 137\u001b[0m         A, B \u001b[39m=\u001b[39m train_test_split(\u001b[39mself\u001b[39;49m\u001b[39m.\u001b[39;49mX, test_size\u001b[39m=\u001b[39;49m\u001b[39mself\u001b[39;49m\u001b[39m.\u001b[39;49mtest_size)\n\u001b[0;32m    138\u001b[0m         S_train \u001b[39m=\u001b[39m AdptCorrThreshold(\n\u001b[0;32m    139\u001b[0m             A, \u001b[39mself\u001b[39m\u001b[39m.\u001b[39mG, \u001b[39mself\u001b[39m\u001b[39m.\u001b[39mtau_method, \u001b[39mself\u001b[39m\u001b[39m.\u001b[39mthreshold_method, sign \u001b[39m=\u001b[39m \u001b[39mself\u001b[39m\u001b[39m.\u001b[39mR_sign)\u001b[39m.\u001b[39mfit_adaptive_corr_threshold(params)\n\u001b[0;32m    140\u001b[0m         S_validation \u001b[39m=\u001b[39m np\u001b[39m.\u001b[39mcov(np\u001b[39m.\u001b[39marray(B), rowvar\u001b[39m=\u001b[39m \u001b[39mFalse\u001b[39;00m)\n",
      "File \u001b[1;32md:\\anaconda3\\envs\\simu\\lib\\site-packages\\sklearn\\model_selection\\_split.py:2471\u001b[0m, in \u001b[0;36mtrain_test_split\u001b[1;34m(test_size, train_size, random_state, shuffle, stratify, *arrays)\u001b[0m\n\u001b[0;32m   2467\u001b[0m     cv \u001b[39m=\u001b[39m CVClass(test_size\u001b[39m=\u001b[39mn_test, train_size\u001b[39m=\u001b[39mn_train, random_state\u001b[39m=\u001b[39mrandom_state)\n\u001b[0;32m   2469\u001b[0m     train, test \u001b[39m=\u001b[39m \u001b[39mnext\u001b[39m(cv\u001b[39m.\u001b[39msplit(X\u001b[39m=\u001b[39marrays[\u001b[39m0\u001b[39m], y\u001b[39m=\u001b[39mstratify))\n\u001b[1;32m-> 2471\u001b[0m \u001b[39mreturn\u001b[39;00m \u001b[39mlist\u001b[39;49m(\n\u001b[0;32m   2472\u001b[0m     chain\u001b[39m.\u001b[39;49mfrom_iterable(\n\u001b[0;32m   2473\u001b[0m         (_safe_indexing(a, train), _safe_indexing(a, test)) \u001b[39mfor\u001b[39;49;00m a \u001b[39min\u001b[39;49;00m arrays\n\u001b[0;32m   2474\u001b[0m     )\n\u001b[0;32m   2475\u001b[0m )\n",
      "File \u001b[1;32md:\\anaconda3\\envs\\simu\\lib\\site-packages\\sklearn\\model_selection\\_split.py:2473\u001b[0m, in \u001b[0;36m<genexpr>\u001b[1;34m(.0)\u001b[0m\n\u001b[0;32m   2467\u001b[0m     cv \u001b[39m=\u001b[39m CVClass(test_size\u001b[39m=\u001b[39mn_test, train_size\u001b[39m=\u001b[39mn_train, random_state\u001b[39m=\u001b[39mrandom_state)\n\u001b[0;32m   2469\u001b[0m     train, test \u001b[39m=\u001b[39m \u001b[39mnext\u001b[39m(cv\u001b[39m.\u001b[39msplit(X\u001b[39m=\u001b[39marrays[\u001b[39m0\u001b[39m], y\u001b[39m=\u001b[39mstratify))\n\u001b[0;32m   2471\u001b[0m \u001b[39mreturn\u001b[39;00m \u001b[39mlist\u001b[39m(\n\u001b[0;32m   2472\u001b[0m     chain\u001b[39m.\u001b[39mfrom_iterable(\n\u001b[1;32m-> 2473\u001b[0m         (_safe_indexing(a, train), _safe_indexing(a, test)) \u001b[39mfor\u001b[39;00m a \u001b[39min\u001b[39;00m arrays\n\u001b[0;32m   2474\u001b[0m     )\n\u001b[0;32m   2475\u001b[0m )\n",
      "File \u001b[1;32md:\\anaconda3\\envs\\simu\\lib\\site-packages\\sklearn\\utils\\__init__.py:359\u001b[0m, in \u001b[0;36m_safe_indexing\u001b[1;34m(X, indices, axis)\u001b[0m\n\u001b[0;32m    353\u001b[0m     \u001b[39mraise\u001b[39;00m \u001b[39mValueError\u001b[39;00m(\n\u001b[0;32m    354\u001b[0m         \u001b[39m\"\u001b[39m\u001b[39mSpecifying the columns using strings is only supported for \u001b[39m\u001b[39m\"\u001b[39m\n\u001b[0;32m    355\u001b[0m         \u001b[39m\"\u001b[39m\u001b[39mpandas DataFrames\u001b[39m\u001b[39m\"\u001b[39m\n\u001b[0;32m    356\u001b[0m     )\n\u001b[0;32m    358\u001b[0m \u001b[39mif\u001b[39;00m \u001b[39mhasattr\u001b[39m(X, \u001b[39m\"\u001b[39m\u001b[39miloc\u001b[39m\u001b[39m\"\u001b[39m):\n\u001b[1;32m--> 359\u001b[0m     \u001b[39mreturn\u001b[39;00m _pandas_indexing(X, indices, indices_dtype, axis\u001b[39m=\u001b[39;49maxis)\n\u001b[0;32m    360\u001b[0m \u001b[39melif\u001b[39;00m \u001b[39mhasattr\u001b[39m(X, \u001b[39m\"\u001b[39m\u001b[39mshape\u001b[39m\u001b[39m\"\u001b[39m):\n\u001b[0;32m    361\u001b[0m     \u001b[39mreturn\u001b[39;00m _array_indexing(X, indices, indices_dtype, axis\u001b[39m=\u001b[39maxis)\n",
      "File \u001b[1;32md:\\anaconda3\\envs\\simu\\lib\\site-packages\\sklearn\\utils\\__init__.py:201\u001b[0m, in \u001b[0;36m_pandas_indexing\u001b[1;34m(X, key, key_dtype, axis)\u001b[0m\n\u001b[0;32m    196\u001b[0m     key \u001b[39m=\u001b[39m \u001b[39mlist\u001b[39m(key)\n\u001b[0;32m    198\u001b[0m \u001b[39mif\u001b[39;00m key_dtype \u001b[39m==\u001b[39m \u001b[39m\"\u001b[39m\u001b[39mint\u001b[39m\u001b[39m\"\u001b[39m \u001b[39mand\u001b[39;00m \u001b[39mnot\u001b[39;00m (\u001b[39misinstance\u001b[39m(key, \u001b[39mslice\u001b[39m) \u001b[39mor\u001b[39;00m np\u001b[39m.\u001b[39misscalar(key)):\n\u001b[0;32m    199\u001b[0m     \u001b[39m# using take() instead of iloc[] ensures the return value is a \"proper\"\u001b[39;00m\n\u001b[0;32m    200\u001b[0m     \u001b[39m# copy that will not raise SettingWithCopyWarning\u001b[39;00m\n\u001b[1;32m--> 201\u001b[0m     \u001b[39mreturn\u001b[39;00m X\u001b[39m.\u001b[39;49mtake(key, axis\u001b[39m=\u001b[39;49maxis)\n\u001b[0;32m    202\u001b[0m \u001b[39melse\u001b[39;00m:\n\u001b[0;32m    203\u001b[0m     \u001b[39m# check whether we should index with loc or iloc\u001b[39;00m\n\u001b[0;32m    204\u001b[0m     indexer \u001b[39m=\u001b[39m X\u001b[39m.\u001b[39miloc \u001b[39mif\u001b[39;00m key_dtype \u001b[39m==\u001b[39m \u001b[39m\"\u001b[39m\u001b[39mint\u001b[39m\u001b[39m\"\u001b[39m \u001b[39melse\u001b[39;00m X\u001b[39m.\u001b[39mloc\n",
      "File \u001b[1;32md:\\anaconda3\\envs\\simu\\lib\\site-packages\\pandas\\core\\generic.py:3872\u001b[0m, in \u001b[0;36mNDFrame.take\u001b[1;34m(self, indices, axis, is_copy, **kwargs)\u001b[0m\n\u001b[0;32m   3863\u001b[0m     warnings\u001b[39m.\u001b[39mwarn(\n\u001b[0;32m   3864\u001b[0m         \u001b[39m\"\u001b[39m\u001b[39mis_copy is deprecated and will be removed in a future version. \u001b[39m\u001b[39m\"\u001b[39m\n\u001b[0;32m   3865\u001b[0m         \u001b[39m\"\u001b[39m\u001b[39m'\u001b[39m\u001b[39mtake\u001b[39m\u001b[39m'\u001b[39m\u001b[39m always returns a copy, so there is no need to specify this.\u001b[39m\u001b[39m\"\u001b[39m,\n\u001b[0;32m   3866\u001b[0m         \u001b[39mFutureWarning\u001b[39;00m,\n\u001b[0;32m   3867\u001b[0m         stacklevel\u001b[39m=\u001b[39mfind_stack_level(inspect\u001b[39m.\u001b[39mcurrentframe()),\n\u001b[0;32m   3868\u001b[0m     )\n\u001b[0;32m   3870\u001b[0m nv\u001b[39m.\u001b[39mvalidate_take((), kwargs)\n\u001b[1;32m-> 3872\u001b[0m \u001b[39mreturn\u001b[39;00m \u001b[39mself\u001b[39;49m\u001b[39m.\u001b[39;49m_take(indices, axis)\n",
      "File \u001b[1;32md:\\anaconda3\\envs\\simu\\lib\\site-packages\\pandas\\core\\generic.py:3887\u001b[0m, in \u001b[0;36mNDFrame._take\u001b[1;34m(self, indices, axis, convert_indices)\u001b[0m\n\u001b[0;32m   3880\u001b[0m \u001b[39m\"\"\"\u001b[39;00m\n\u001b[0;32m   3881\u001b[0m \u001b[39mInternal version of the `take` allowing specification of additional args.\u001b[39;00m\n\u001b[0;32m   3882\u001b[0m \n\u001b[0;32m   3883\u001b[0m \u001b[39mSee the docstring of `take` for full explanation of the parameters.\u001b[39;00m\n\u001b[0;32m   3884\u001b[0m \u001b[39m\"\"\"\u001b[39;00m\n\u001b[0;32m   3885\u001b[0m \u001b[39mself\u001b[39m\u001b[39m.\u001b[39m_consolidate_inplace()\n\u001b[1;32m-> 3887\u001b[0m new_data \u001b[39m=\u001b[39m \u001b[39mself\u001b[39;49m\u001b[39m.\u001b[39;49m_mgr\u001b[39m.\u001b[39;49mtake(\n\u001b[0;32m   3888\u001b[0m     indices,\n\u001b[0;32m   3889\u001b[0m     axis\u001b[39m=\u001b[39;49m\u001b[39mself\u001b[39;49m\u001b[39m.\u001b[39;49m_get_block_manager_axis(axis),\n\u001b[0;32m   3890\u001b[0m     verify\u001b[39m=\u001b[39;49m\u001b[39mTrue\u001b[39;49;00m,\n\u001b[0;32m   3891\u001b[0m     convert_indices\u001b[39m=\u001b[39;49mconvert_indices,\n\u001b[0;32m   3892\u001b[0m )\n\u001b[0;32m   3893\u001b[0m \u001b[39mreturn\u001b[39;00m \u001b[39mself\u001b[39m\u001b[39m.\u001b[39m_constructor(new_data)\u001b[39m.\u001b[39m__finalize__(\u001b[39mself\u001b[39m, method\u001b[39m=\u001b[39m\u001b[39m\"\u001b[39m\u001b[39mtake\u001b[39m\u001b[39m\"\u001b[39m)\n",
      "File \u001b[1;32md:\\anaconda3\\envs\\simu\\lib\\site-packages\\pandas\\core\\internals\\managers.py:968\u001b[0m, in \u001b[0;36mBaseBlockManager.take\u001b[1;34m(self, indexer, axis, verify, convert_indices)\u001b[0m\n\u001b[0;32m    965\u001b[0m \u001b[39mif\u001b[39;00m convert_indices:\n\u001b[0;32m    966\u001b[0m     indexer \u001b[39m=\u001b[39m maybe_convert_indices(indexer, n, verify\u001b[39m=\u001b[39mverify)\n\u001b[1;32m--> 968\u001b[0m new_labels \u001b[39m=\u001b[39m \u001b[39mself\u001b[39;49m\u001b[39m.\u001b[39;49maxes[axis]\u001b[39m.\u001b[39;49mtake(indexer)\n\u001b[0;32m    969\u001b[0m \u001b[39mreturn\u001b[39;00m \u001b[39mself\u001b[39m\u001b[39m.\u001b[39mreindex_indexer(\n\u001b[0;32m    970\u001b[0m     new_axis\u001b[39m=\u001b[39mnew_labels,\n\u001b[0;32m    971\u001b[0m     indexer\u001b[39m=\u001b[39mindexer,\n\u001b[1;32m   (...)\u001b[0m\n\u001b[0;32m    974\u001b[0m     copy\u001b[39m=\u001b[39m\u001b[39mNone\u001b[39;00m,\n\u001b[0;32m    975\u001b[0m )\n",
      "File \u001b[1;32md:\\anaconda3\\envs\\simu\\lib\\site-packages\\pandas\\core\\indexes\\base.py:1185\u001b[0m, in \u001b[0;36mIndex.take\u001b[1;34m(self, indices, axis, allow_fill, fill_value, **kwargs)\u001b[0m\n\u001b[0;32m   1183\u001b[0m values \u001b[39m=\u001b[39m \u001b[39mself\u001b[39m\u001b[39m.\u001b[39m_values\n\u001b[0;32m   1184\u001b[0m \u001b[39mif\u001b[39;00m \u001b[39misinstance\u001b[39m(values, np\u001b[39m.\u001b[39mndarray):\n\u001b[1;32m-> 1185\u001b[0m     taken \u001b[39m=\u001b[39m algos\u001b[39m.\u001b[39;49mtake(\n\u001b[0;32m   1186\u001b[0m         values, indices, allow_fill\u001b[39m=\u001b[39;49mallow_fill, fill_value\u001b[39m=\u001b[39;49m\u001b[39mself\u001b[39;49m\u001b[39m.\u001b[39;49m_na_value\n\u001b[0;32m   1187\u001b[0m     )\n\u001b[0;32m   1188\u001b[0m \u001b[39melse\u001b[39;00m:\n\u001b[0;32m   1189\u001b[0m     \u001b[39m# algos.take passes 'axis' keyword which not all EAs accept\u001b[39;00m\n\u001b[0;32m   1190\u001b[0m     taken \u001b[39m=\u001b[39m values\u001b[39m.\u001b[39mtake(\n\u001b[0;32m   1191\u001b[0m         indices, allow_fill\u001b[39m=\u001b[39mallow_fill, fill_value\u001b[39m=\u001b[39m\u001b[39mself\u001b[39m\u001b[39m.\u001b[39m_na_value\n\u001b[0;32m   1192\u001b[0m     )\n",
      "File \u001b[1;32md:\\anaconda3\\envs\\simu\\lib\\site-packages\\pandas\\core\\algorithms.py:1570\u001b[0m, in \u001b[0;36mtake\u001b[1;34m(arr, indices, axis, allow_fill, fill_value)\u001b[0m\n\u001b[0;32m   1565\u001b[0m     result \u001b[39m=\u001b[39m take_nd(\n\u001b[0;32m   1566\u001b[0m         arr, indices, axis\u001b[39m=\u001b[39maxis, allow_fill\u001b[39m=\u001b[39m\u001b[39mTrue\u001b[39;00m, fill_value\u001b[39m=\u001b[39mfill_value\n\u001b[0;32m   1567\u001b[0m     )\n\u001b[0;32m   1568\u001b[0m \u001b[39melse\u001b[39;00m:\n\u001b[0;32m   1569\u001b[0m     \u001b[39m# NumPy style\u001b[39;00m\n\u001b[1;32m-> 1570\u001b[0m     result \u001b[39m=\u001b[39m arr\u001b[39m.\u001b[39;49mtake(indices, axis\u001b[39m=\u001b[39;49maxis)\n\u001b[0;32m   1571\u001b[0m \u001b[39mreturn\u001b[39;00m result\n",
      "\u001b[1;31mKeyboardInterrupt\u001b[0m: "
     ]
    }
   ],
   "source": [
    "for N in N_T_range:\n",
    "    for T in N_T_range:\n",
    "        for rho in rho_range:\n",
    "            for ord in ['fro', 2]:\n",
    "                # data and true matrix\n",
    "                S = gen_S_AR1(rho, N)\n",
    "                R = cov2cor(S)\n",
    "                seed = 1\n",
    "                rng = np.random.RandomState(seed) if 1 else np.random\n",
    "                X = rng.multivariate_normal(mean = np.zeros(N), cov = S, size = T)\n",
    "                \n",
    "                # esti object\n",
    "                G_zero = np.ones((N, N)) - np.eye(N)\n",
    "                m = AdptCorrThreshold(pd.DataFrame(X), G_zero)\n",
    "                \n",
    "                # other estimator\n",
    "                R_ths, S_ths, _ = m.auto_fit(threshold_method = 'soft threshold')\n",
    "                R_thh, S_thh, _ = m.auto_fit(threshold_method = 'hard threshold')\n",
    "                S_lin, S_sample = m.lw_lin_shrink(), m.sample_cov()\n",
    "                R_lin, R_sample = cov2cor(S_lin), cov2cor(S_sample)\n",
    "                if T > N: # nonlinear shrinkage is applicable when N / T \\in (0, 1)\n",
    "                    S_nlin = m.nonlin_shrink()\n",
    "                    R_nlin = cov2cor(S_nlin)\n",
    "                \n",
    "                # correlation\n",
    "                row = {'N': N, 'T': T, 'rho': rho, 'ord': ord, 'type': 'R'}\n",
    "                deno = LA.norm(R, ord)\n",
    "                row['Sample'] = LA.norm(R_sample - R, ord) / deno\n",
    "                row['Soft Threshold'] = LA.norm(R_ths - R, ord) / deno\n",
    "                row['Hard Threshold'] = LA.norm(R_thh - R, ord) / deno\n",
    "                row['Linear Shrink'] = LA.norm(R_lin - R, ord) / deno\n",
    "                if T > N:\n",
    "                    row['Nonlinear Shrink'] = LA.norm(R_nlin - R, ord) / deno\n",
    "                df = df.append(row, ignore_index = True)\n",
    "                \n",
    "                # covariance\n",
    "                row = {'N': N, 'T': T, 'rho': rho, 'ord': ord, 'type': 'S'}\n",
    "                deno = LA.norm(S, ord)\n",
    "                row['Sample'] = LA.norm(S_sample - S, ord) / deno\n",
    "                row['Soft Threshold'] = LA.norm(S_ths - S, ord) / deno\n",
    "                row['Hard Threshold'] = LA.norm(S_thh - S, ord) / deno\n",
    "                row['Linear Shrink'] = LA.norm(S_lin - S, ord) / deno\n",
    "                if T > N:\n",
    "                    row['Nonlinear Shrink'] = LA.norm(S_nlin - S, ord) / deno\n",
    "                df = df.append(row, ignore_index = True)\n",
    "                \n",
    "                # print(df.iloc[-1], df.iloc[-2], sep = '\\n')"
   ]
  },
  {
   "cell_type": "code",
   "execution_count": null,
   "metadata": {},
   "outputs": [],
   "source": [
    "df.to_csv('other_methods.csv')"
   ]
  },
  {
   "attachments": {},
   "cell_type": "markdown",
   "metadata": {},
   "source": [
    "# First Attempt \n",
    "just ignore it."
   ]
  },
  {
   "cell_type": "code",
   "execution_count": null,
   "metadata": {},
   "outputs": [],
   "source": [
    "# profiler = Profiler()\n",
    "# profiler.start()\n",
    "\n",
    "N = 100\n",
    "T = 300\n",
    "rho = 0.95\n",
    "S = gen_S_AR1(N = N, rho = rho)\n",
    "R = cov2cor(S)\n",
    "\n",
    "seed = 1\n",
    "rng = np.random.RandomState(seed) if 1 else np.random\n",
    "X = rng.multivariate_normal(mean = np.zeros(N), cov = S, size = T)\n",
    "\n",
    "# profiler.stop()\n",
    "# profiler.print()"
   ]
  },
  {
   "cell_type": "code",
   "execution_count": null,
   "metadata": {},
   "outputs": [],
   "source": [
    "G_zero = np.ones((N, N)) - np.eye(N)\n",
    "m = AdptCorrThreshold(pd.DataFrame(X), G_zero)"
   ]
  },
  {
   "cell_type": "code",
   "execution_count": null,
   "metadata": {},
   "outputs": [
    {
     "data": {
      "image/png": "[encoded data removed]",
      "text/plain": [
       "<Figure size 640x480 with 1 Axes>"
      ]
     },
     "metadata": {},
     "output_type": "display_data"
    }
   ],
   "source": [
    "plt.plot(np.linalg.eigvals(S)[::-1], color = 'blue');\n",
    "plt.plot(np.sort(np.linalg.eigvals(m.sample_cov())), color = 'red');\n",
    "plt.plot(np.sort(np.linalg.eigvals(m.nonlin_shrink())), color = 'green');\n",
    "# plt.plot(np.sort(np.linalg.eigvals(m.lw_lin_shrink())), color = 'purple');"
   ]
  },
  {
   "cell_type": "code",
   "execution_count": null,
   "metadata": {},
   "outputs": [],
   "source": [
    "def show_rs(S: np.ndarray, \n",
    "            m: AdptCorrThreshold, \n",
    "            ord = 'fro'):\n",
    "    # ord: norm type\n",
    "    R_ths, S_ths, params = m.auto_fit(threshold_method = 'soft threshold')\n",
    "    print(params)\n",
    "    R_thh, S_thh, params = m.auto_fit(threshold_method = 'hard threshold')\n",
    "    print(params)\n",
    "    R = cov2cor(S)\n",
    "    \n",
    "    print(ord)\n",
    "    print('----------'*2)\n",
    "    \n",
    "    x = LA.norm(R, ord)\n",
    "    print('Correlation itself', x)\n",
    "    print('Error:')\n",
    "    print('Sample', LA.norm(cov2cor(m.sample_cov()) - R, ord) / x)\n",
    "    print('Linear Shrinkage', LA.norm(cov2cor(m.lw_lin_shrink()) - R, ord) / x)\n",
    "    print('Nonlinear Shrinkage', LA.norm(cov2cor(m.nonlin_shrink()) - R, ord) / x)\n",
    "    print('Soft Threshold', LA.norm(R_ths - R, ord) / x)\n",
    "    print('Hard Threshold', LA.norm(R_thh - R, ord) / x)\n",
    "    for eta in [0.5, 0.8, 0.95, 1]:\n",
    "        try:\n",
    "            mean_err = np.loadtxt('data_done/' + get_title_1(ord, 'cor', 'random', eta, N, T, rho) + '.txt').mean()\n",
    "            print('Info Band, eta={}'.format(eta), mean_err)\n",
    "        except Exception:\n",
    "            pass\n",
    "        \n",
    "    print()\n",
    "    \n",
    "    x = LA.norm(S, ord)\n",
    "    print('Covariance itself', x)\n",
    "    print('Error:')\n",
    "    print('Sample', LA.norm(m.sample_cov() - S, ord) / x)\n",
    "    print('Linear Shrinkage', LA.norm(m.lw_lin_shrink() - S, ord) / x)\n",
    "    print('Nonlinear Shrinkage', LA.norm(m.nonlin_shrink() - S, ord) / x)\n",
    "    print('Soft Threshold', LA.norm(S_ths - S, ord) / x)\n",
    "    print('Hard Threshold', LA.norm(S_thh - S, ord) / x)\n",
    "    for eta in [0.5, 0.8, 0.95, 1]:\n",
    "        try:\n",
    "            mean_err = np.loadtxt('data_done/' + get_title_1(ord, 'cov', 'random', eta, N, T, rho) + '.txt').mean()\n",
    "            print('Info Band, eta={}'.format(eta), mean_err)\n",
    "        except Exception:\n",
    "            pass\n",
    "    \n",
    "    print('----------'*2)\n",
    "    return"
   ]
  },
  {
   "cell_type": "code",
   "execution_count": null,
   "metadata": {},
   "outputs": [
    {
     "name": "stdout",
     "output_type": "stream",
     "text": [
      "[ 6.43220455e-01 -6.03734560e-04]\n",
      "[ 6.71717172e+00 -1.55865402e-12]\n",
      "fro\n",
      "--------------------\n",
      "Correlation itself 97.80866615094732\n",
      "Error:\n",
      "Sample 0.30145095089923946\n",
      "Linear Shrinkage 0.2839944980445308\n",
      "Nonlinear Shrinkage 0.2732307754636863\n",
      "Soft Threshold 0.21751200955816563\n",
      "Hard Threshold 0.9735165500676309\n",
      "\n",
      "Covariance itself 97.80866615094732\n",
      "Error:\n",
      "Sample 0.3147680811469419\n",
      "Linear Shrinkage 0.2971016162330117\n",
      "Nonlinear Shrinkage 0.28522658188781924\n",
      "Soft Threshold 0.2366022311315699\n",
      "Hard Threshold 0.9737125716827223\n",
      "--------------------\n",
      "[ 2.41818635e-08 -1.97730196e-12]\n",
      "[ 0.25467745 -0.2535231 ]\n",
      "2\n",
      "--------------------\n",
      "Correlation itself 38.50264813100928\n",
      "Error:\n",
      "Sample 0.4033757099900365\n",
      "Linear Shrinkage 0.3067950387124192\n",
      "Nonlinear Shrinkage 0.26779469092129193\n",
      "Soft Threshold 0.9740277604647505\n",
      "Hard Threshold 0.9740277604647505\n",
      "\n",
      "Covariance itself 38.50264813100928\n",
      "Error:\n",
      "Sample 0.43164797923813863\n",
      "Linear Shrinkage 0.3292782219862578\n",
      "Nonlinear Shrinkage 0.2930379819326254\n",
      "Soft Threshold 0.9745994537081066\n",
      "Hard Threshold 0.9745994537081066\n",
      "--------------------\n"
     ]
    }
   ],
   "source": [
    "print(N, T, rho)\n",
    "show_rs(S, m, 'fro')\n",
    "show_rs(S, m, 2)\n",
    "show_rs(S, m, 1)"
   ]
  }
 ],
 "metadata": {
  "kernelspec": {
   "display_name": "Python 3.9.13 ('simu')",
   "language": "python",
   "name": "python3"
  },
  "language_info": {
   "codemirror_mode": {
    "name": "ipython",
    "version": 3
   },
   "file_extension": ".py",
   "mimetype": "text/x-python",
   "name": "python",
   "nbconvert_exporter": "python",
   "pygments_lexer": "ipython3",
   "version": "3.9.13"
  },
  "vscode": {
   "interpreter": {
    "hash": "b1f8481d56ce14143e6478182e374bc2468eaf037e4af344af9b6ae85cf11f37"
   }
  }
 },
 "nbformat": 4,
 "nbformat_minor": 2
}
