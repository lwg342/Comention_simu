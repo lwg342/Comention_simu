{
 "cells": [
  {
   "cell_type": "code",
   "execution_count": 1,
   "metadata": {},
   "outputs": [],
   "source": [
    "import numpy as np"
   ]
  },
  {
   "cell_type": "code",
   "execution_count": 2,
   "metadata": {},
   "outputs": [
    {
     "data": {
      "text/plain": [
       "array([[0., 0., 0.],\n",
       "       [0., 0., 0.]])"
      ]
     },
     "execution_count": 2,
     "metadata": {},
     "output_type": "execute_result"
    }
   ],
   "source": [
    "np.zeros((2, 3))"
   ]
  },
  {
   "cell_type": "code",
   "execution_count": 7,
   "metadata": {},
   "outputs": [],
   "source": [
    "N = 5"
   ]
  },
  {
   "cell_type": "code",
   "execution_count": 8,
   "metadata": {},
   "outputs": [
    {
     "name": "stdout",
     "output_type": "stream",
     "text": [
      "[[1.         0.39912543 0.16992318 0.38022614 0.5402031 ]\n",
      " [0.39912543 1.         0.1657336  0.63841033 0.67553339]\n",
      " [0.16992318 0.1657336  1.         0.46583856 0.21071163]\n",
      " [0.38022614 0.63841033 0.46583856 1.         0.53525577]\n",
      " [0.5402031  0.67553339 0.21071163 0.53525577 1.        ]]\n"
     ]
    }
   ],
   "source": [
    "# A : random lower-triangle matrix\n",
    "A = np.array([[np.random.rand() if i > j else (1 if i == j else 0) for j in range(N)] for i in range(N)])\n",
    "# X : pd, covariance\n",
    "X = np.dot(A, A.transpose())\n",
    "# Sig : marginal variance\n",
    "Sig = [X[i][i] for i in range(N)]\n",
    "# X : cov to corr\n",
    "X = np.array([[X[i][j] / np.sqrt(Sig[i] * Sig[j]) for j in range(N)] for i in range(N)]) \n",
    "print(X)"
   ]
  },
  {
   "cell_type": "code",
   "execution_count": 16,
   "metadata": {},
   "outputs": [],
   "source": [
    "rowSort = np.zeros((N, N))\n",
    "for i in range(N):\n",
    "    Order = np.argsort(X[i])[::-1] # Order[k] = j: X[i][j]在第i行是第k大\n",
    "    for k in range(N):\n",
    "        rowSort[i][Order[k]] = k+1"
   ]
  },
  {
   "cell_type": "code",
   "execution_count": 17,
   "metadata": {},
   "outputs": [
    {
     "data": {
      "text/plain": [
       "array([[1., 3., 5., 4., 2.],\n",
       "       [4., 1., 5., 3., 2.],\n",
       "       [4., 5., 1., 2., 3.],\n",
       "       [5., 2., 4., 1., 3.],\n",
       "       [3., 2., 5., 4., 1.]])"
      ]
     },
     "execution_count": 17,
     "metadata": {},
     "output_type": "execute_result"
    }
   ],
   "source": [
    "rowSort"
   ]
  },
  {
   "cell_type": "code",
   "execution_count": 14,
   "metadata": {},
   "outputs": [
    {
     "data": {
      "text/plain": [
       "4.0"
      ]
     },
     "execution_count": 14,
     "metadata": {},
     "output_type": "execute_result"
    }
   ],
   "source": [
    "rowSort[1, 2]"
   ]
  },
  {
   "cell_type": "code",
   "execution_count": 18,
   "metadata": {},
   "outputs": [],
   "source": [
    "def f():\n",
    "    if 1:\n",
    "        print('aaa')\n",
    "        return\n",
    "    print(2)"
   ]
  },
  {
   "cell_type": "code",
   "execution_count": 19,
   "metadata": {},
   "outputs": [
    {
     "name": "stdout",
     "output_type": "stream",
     "text": [
      "aaa\n"
     ]
    }
   ],
   "source": [
    "f()"
   ]
  },
  {
   "cell_type": "code",
   "execution_count": 20,
   "metadata": {},
   "outputs": [],
   "source": [
    "import warnings"
   ]
  },
  {
   "cell_type": "code",
   "execution_count": 21,
   "metadata": {},
   "outputs": [
    {
     "name": "stderr",
     "output_type": "stream",
     "text": [
      "C:\\Users\\lx\\AppData\\Local\\Temp\\ipykernel_11920\\1121297883.py:1: UserWarning: a\n",
      "  warnings.warn('a')\n"
     ]
    }
   ],
   "source": [
    "warnings.warn('a')"
   ]
  },
  {
   "cell_type": "code",
   "execution_count": null,
   "metadata": {},
   "outputs": [],
   "source": []
  }
 ],
 "metadata": {
  "kernelspec": {
   "display_name": "Python 3.9.13 ('simu')",
   "language": "python",
   "name": "python3"
  },
  "language_info": {
   "codemirror_mode": {
    "name": "ipython",
    "version": 3
   },
   "file_extension": ".py",
   "mimetype": "text/x-python",
   "name": "python",
   "nbconvert_exporter": "python",
   "pygments_lexer": "ipython3",
   "version": "3.9.13"
  },
  "orig_nbformat": 4,
  "vscode": {
   "interpreter": {
    "hash": "b1f8481d56ce14143e6478182e374bc2468eaf037e4af344af9b6ae85cf11f37"
   }
  }
 },
 "nbformat": 4,
 "nbformat_minor": 2
}
