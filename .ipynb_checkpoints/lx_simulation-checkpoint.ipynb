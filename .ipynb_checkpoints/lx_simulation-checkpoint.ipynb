{
 "cells": [
  {
   "cell_type": "code",
   "execution_count": 1,
   "metadata": {},
   "outputs": [],
   "source": [
    "import numpy as np\n",
    "from sklearn.datasets import make_sparse_spd_matrix\n",
    "from scipy import linalg as LA\n",
    "import random\n",
    "import pandas as pd\n",
    "import time\n",
    "\n",
    "from infoband.band_info import InfoCorrBand\n",
    "from wlpy.covariance import Covariance\n",
    "from utils.adpt_correlation_threshold import AdptCorrThreshold\n",
    "from wlpy.gist import heatmap"
   ]
  },
  {
   "cell_type": "code",
   "execution_count": 2,
   "metadata": {},
   "outputs": [],
   "source": [
    "# Covariance to Correlation\n",
    "def cov2cor(S: np.ndarray):\n",
    "    D = np.diag(np.sqrt(np.diag(S)))\n",
    "    D_inv = np.linalg.inv(D)\n",
    "    return D_inv @ S @ D_inv"
   ]
  },
  {
   "cell_type": "code",
   "execution_count": 3,
   "metadata": {},
   "outputs": [],
   "source": [
    "# Self Covariance of AR(1) process\n",
    "def gen_S_AR1(rho = 0.8,N = 500) -> np.ndarray:\n",
    "    # generate the covariance matrix of AR(1) process\n",
    "    S_block = np.zeros(shape=[N, N])\n",
    "    for j in range(0, N):\n",
    "        S_block = S_block + np.diag(np.ones(N-j)*(rho**j), -j) + \\\n",
    "        np.diag(np.ones(N-j)*(rho**j), j)\n",
    "    S = S_block - np.eye(N)\n",
    "    return S"
   ]
  },
  {
   "cell_type": "code",
   "execution_count": 4,
   "metadata": {},
   "outputs": [],
   "source": [
    "rng = np.random.RandomState(100)\n",
    "N = 100\n",
    "T = 50\n",
    "alpha = 0.95\n",
    "rho = 0.8"
   ]
  },
  {
   "cell_type": "code",
   "execution_count": 5,
   "metadata": {},
   "outputs": [],
   "source": [
    "S = gen_S_AR1(N = N, rho = rho) # structured\n",
    "# S = make_sparse_spd_matrix(N, alpha = alpha, random_state = 100) # unstructured\n",
    "# S[:5, :5]\n",
    "X = rng.multivariate_normal(mean = np.zeros(N), cov = S, size = T)"
   ]
  },
  {
   "cell_type": "code",
   "execution_count": 6,
   "metadata": {},
   "outputs": [
    {
     "name": "stderr",
     "output_type": "stream",
     "text": [
      "/home/R_PUBLIC_2021101409163534/Xiang Lu/Comention_simu/infoband/band_info.py:58: UserWarning: L-matrix is missing.\n",
      "  warnings.warn('L-matrix is missing.')\n"
     ]
    }
   ],
   "source": [
    "c = InfoCorrBand(X)\n",
    "R = cov2cor(S)\n",
    "L = abs(R)\n",
    "c.feed_info(L)"
   ]
  },
  {
   "cell_type": "code",
   "execution_count": 7,
   "metadata": {},
   "outputs": [
    {
     "name": "stderr",
     "output_type": "stream",
     "text": [
      "/usr/local/python3/lib/python3.6/site-packages/numpy/core/_asarray.py:83: ComplexWarning: Casting complex values to real discards the imaginary part\n",
      "  return array(a, dtype, copy=False, order=order)\n"
     ]
    },
    {
     "data": {
      "image/png": "[encoded data removed]",
      "text/plain": [
       "<Figure size 432x288 with 1 Axes>"
      ]
     },
     "metadata": {
      "needs_background": "light"
     },
     "output_type": "display_data"
    }
   ],
   "source": [
    "# c.find_biggest_k_for_pd() # I delete this method\n",
    "c.plot_k_pd(range(N - 50, N + 1))"
   ]
  },
  {
   "cell_type": "code",
   "execution_count": 8,
   "metadata": {},
   "outputs": [
    {
     "name": "stdout",
     "output_type": "stream",
     "text": [
      "2\n"
     ]
    }
   ],
   "source": [
    "k = c.k_by_cv()\n",
    "print(k)\n",
    "R_est = c.fit_info_corr_band(k)\n",
    "S_est = c.fit_info_cov_band(k)"
   ]
  },
  {
   "cell_type": "code",
   "execution_count": 9,
   "metadata": {},
   "outputs": [],
   "source": [
    "m = Covariance(X)"
   ]
  },
  {
   "cell_type": "code",
   "execution_count": 10,
   "metadata": {},
   "outputs": [],
   "source": [
    "def show_rs(S: np.ndarray, \n",
    "            c: InfoCorrBand, m: Covariance, \n",
    "            ord = 'fro'):\n",
    "    # ord: norm type\n",
    "    R = cov2cor(S)\n",
    "    print('Correlation itself', LA.norm(R, ord))\n",
    "    print('Error:')\n",
    "    print('Sample', LA.norm(c.sample_corr() - R, ord))\n",
    "    print('Linear Shrinkage', LA.norm(cov2cor(m.lw_lin_shrink()) - R, ord))\n",
    "    print('Nonlinear Shrinkage', LA.norm(cov2cor(m.nonlin_shrink()) - R, ord))\n",
    "    print()\n",
    "    print('Covariance itself', LA.norm(S, ord))\n",
    "    print('Error:')\n",
    "    print('Sample', LA.norm(c.sample_cov() - S, ord))\n",
    "    print('Linear Shrinkage', LA.norm(m.lw_lin_shrink() - S, ord))\n",
    "    print('Nonlinear Shrinkage', LA.norm(m.nonlin_shrink() - S, ord))\n",
    "    return"
   ]
  },
  {
   "cell_type": "code",
   "execution_count": 11,
   "metadata": {},
   "outputs": [],
   "source": [
    "def gen_eta_sequence(N, eta = 0.5, draw_type = 'random', is_random = False, \n",
    "                     rand_seed = 100, near_factor = 2) -> np.ndarray:\n",
    "    \"\"\"\n",
    "    Generate a sequence b, which is a permutation of {1, ..., N}. \n",
    "    b satisfies the property: for any 0 < k < N+1, b[0]~b[k-1] include {1, ..., ceil(eta*k)}.  \n",
    "    \n",
    "    draw_type : {'random', 'near'}\n",
    "        Algorithms about how to draw ( {b[0], ..., b[k-1]} - {1, ..., ceil(eta*k)} ). Here '-' is a subtraction between two sets.\n",
    "    is_random : bool\n",
    "        If False, we use random_seed as random seed, for repeat running results.\n",
    "    random_seed : int\n",
    "    near_factor : float\n",
    "        Needed only when draw_type = 'near'.\n",
    "    \"\"\"\n",
    "    if is_random:\n",
    "        rng = random\n",
    "    else:\n",
    "        rng = np.random.RandomState(rand_seed)\n",
    "        \n",
    "    b = [1] # Default to keep the diagonal element in covariance estimation.\n",
    "    b_complement = [i for i in range(2, N + 1)] # b's complement set\n",
    "    \n",
    "    for k in range(2, N + 1):\n",
    "        # consider k-th element\n",
    "        th = int(np.ceil(eta * k))\n",
    "        # S^L_k include S^d_{th}\n",
    "        cnt = sum([1 if num <= th else 0 for num in b])\n",
    "        if cnt < th:\n",
    "            for next_id in range(1, th + 1):\n",
    "                if next_id not in b:\n",
    "                    b.append(next_id)\n",
    "                    b_complement.remove(next_id)\n",
    "                    break\n",
    "        else:\n",
    "            # len(b_complement) == N + 1 - k\n",
    "            if draw_type == 'random':\n",
    "                j = rng.randint(0, N - k) if N - k > 0 else 0\n",
    "            elif draw_type == 'near':\n",
    "                upper = min(int(near_factor * k), N - k)\n",
    "                j = rng.randint(0, upper) if upper > 0 else 0\n",
    "            else:\n",
    "                raise Exception('draw_type, value error')\n",
    "            next_id = b_complement[j] \n",
    "            b.append(next_id)\n",
    "            b_complement.remove(next_id)\n",
    "    return np.array(b)"
   ]
  },
  {
   "cell_type": "code",
   "execution_count": 12,
   "metadata": {},
   "outputs": [],
   "source": [
    "def gen_L(S, eta, verbose = False, draw_type = 'random', is_random = False, \n",
    "          rand_seed = 100, near_factor = 2):\n",
    "    N = S.shape[0]\n",
    "    new_rowSort = np.zeros((N, N))\n",
    "    \n",
    "    R = cov2cor(S)\n",
    "    L = abs(R)\n",
    "    rowSort = InfoCorrBand(X = np.eye(N), L = L).rowSort # You can ignore the 'X = np.eye(N)' parameter. I create this temporary object solely to get 'rowSort' matrix.\n",
    "    \n",
    "    for i in range(N):\n",
    "        row = rowSort[i]\n",
    "        argst = row.argsort()\n",
    "        b = gen_eta_sequence(N, eta, draw_type, is_random, rand_seed, near_factor)\n",
    "        for j in range(N):\n",
    "            new_rowSort[i][argst[j]] = b[j]\n",
    "    \n",
    "    L_eta = 1 / new_rowSort\n",
    "    res = (L_eta, new_rowSort, rowSort)\n",
    "    return res if verbose else L_eta"
   ]
  },
  {
   "cell_type": "code",
   "execution_count": 13,
   "metadata": {},
   "outputs": [
    {
     "name": "stdout",
     "output_type": "stream",
     "text": [
      "2\n"
     ]
    }
   ],
   "source": [
    "L1 = gen_L(S, eta = 0.5, verbose = 0, \n",
    "           draw_type = 'near', is_random = 0)\n",
    "c1 = InfoCorrBand(X = X, L = L1, num_cv = 20)\n",
    "k1 = c1.k_by_cv()\n",
    "print(k1)\n",
    "R_est1 = c1.fit_info_corr_band(k1)\n",
    "S_est1 = c1.fit_info_cov_band(k1)"
   ]
  },
  {
   "cell_type": "code",
   "execution_count": 14,
   "metadata": {},
   "outputs": [
    {
     "name": "stdout",
     "output_type": "stream",
     "text": [
      "14\n"
     ]
    }
   ],
   "source": [
    "L2 = gen_L(S, eta = 0.5, verbose = 0, \n",
    "           draw_type = 'random', is_random = 0)\n",
    "c2 = InfoCorrBand(X = X, L = L2, num_cv = 20)\n",
    "k2 = c2.k_by_cv()\n",
    "print(k2)\n",
    "R_est2 = c2.fit_info_corr_band(k2)\n",
    "S_est2 = c2.fit_info_cov_band(k2)"
   ]
  },
  {
   "cell_type": "code",
   "execution_count": 15,
   "metadata": {},
   "outputs": [
    {
     "name": "stdout",
     "output_type": "stream",
     "text": [
      "Correlation itself 21.111111111111125\n",
      "Error:\n",
      "Sample 13.631392272290457\n",
      "Linear Shrinkage 10.783726393891417\n",
      "Nonlinear Shrinkage 10.645226862906256\n",
      "\n",
      "Covariance itself 21.111111111111125\n",
      "Error:\n",
      "Sample 16.332019382075206\n",
      "Linear Shrinkage 11.229741473572744\n",
      "Nonlinear Shrinkage 11.338422177804972\n"
     ]
    }
   ],
   "source": [
    "show_rs(S, c, m, 'fro')"
   ]
  },
  {
   "cell_type": "code",
   "execution_count": 16,
   "metadata": {},
   "outputs": [
    {
     "name": "stdout",
     "output_type": "stream",
     "text": [
      "Correlation itself 8.852795603006218\n",
      "Error:\n",
      "Sample 6.81420141124272\n",
      "Linear Shrinkage 4.436857110151969\n",
      "Nonlinear Shrinkage 4.208217168517955\n",
      "\n",
      "Covariance itself 8.852795603006218\n",
      "Error:\n",
      "Sample 9.490711256619793\n",
      "Linear Shrinkage 4.2920727573489925\n",
      "Nonlinear Shrinkage 4.082295865771666\n"
     ]
    }
   ],
   "source": [
    "show_rs(S, c, m, 2)"
   ]
  },
  {
   "cell_type": "code",
   "execution_count": 17,
   "metadata": {},
   "outputs": [
    {
     "name": "stdout",
     "output_type": "stream",
     "text": [
      "Correlation itself 8.99987154770766\n",
      "Error:\n",
      "Sample 14.735406562129354\n",
      "Linear Shrinkage 10.55475807207408\n",
      "Nonlinear Shrinkage 10.829088456036908\n",
      "\n",
      "Covariance itself 8.99987154770766\n",
      "Error:\n",
      "Sample 21.92013831918438\n",
      "Linear Shrinkage 11.95183095432187\n",
      "Nonlinear Shrinkage 11.972333459059646\n"
     ]
    }
   ],
   "source": [
    "show_rs(S, c, m, 1)"
   ]
  },
  {
   "cell_type": "code",
   "execution_count": 18,
   "metadata": {},
   "outputs": [
    {
     "data": {
      "text/plain": [
       "array([ 86.,   9.,  74.,   4.,   2.,   1.,   3.,   5.,   8., 100.])"
      ]
     },
     "execution_count": 18,
     "metadata": {},
     "output_type": "execute_result"
    }
   ],
   "source": [
    "c.rowSort[5][:10]\n",
    "c1.rowSort[5][:20]\n",
    "c2.rowSort[5][:10]"
   ]
  },
  {
   "cell_type": "code",
   "execution_count": 19,
   "metadata": {},
   "outputs": [
    {
     "name": "stdout",
     "output_type": "stream",
     "text": [
      "fro cor\n",
      "18.17656800031803\n",
      "17.678222641752292\n",
      "8.63246380232672\n",
      "fro cov\n",
      "18.371017032695438\n",
      "17.89300133245338\n",
      "10.419181136830463\n",
      "2 cor\n",
      "7.681488133857938\n",
      "7.421961037784551\n",
      "2.963289831857972\n",
      "2 cov\n",
      "7.565375948897135\n",
      "7.272989583976607\n",
      "2.927967808518803\n",
      "1 cor\n",
      "7.999871547707659\n",
      "7.999851958733077\n",
      "5.123945300005908\n",
      "1 cov\n",
      "8.672489460621778\n",
      "8.672489460621778\n",
      "7.572673843546061\n"
     ]
    }
   ],
   "source": [
    "for ord in ['fro', 2, 1]:\n",
    "    print(ord, 'cor')\n",
    "    print(LA.norm(R - R_est, ord))\n",
    "    print(LA.norm(R - R_est1, ord))\n",
    "    print(LA.norm(R - R_est2, ord))\n",
    "    print(ord, 'cov')\n",
    "    print(LA.norm(S - S_est, ord))\n",
    "    print(LA.norm(S - S_est1, ord))\n",
    "    print(LA.norm(S - S_est2, ord))"
   ]
  },
  {
   "cell_type": "code",
   "execution_count": 20,
   "metadata": {},
   "outputs": [
    {
     "data": {
      "image/png": "[encoded data removed]",
      "text/plain": [
       "<Figure size 432x288 with 2 Axes>"
      ]
     },
     "metadata": {
      "needs_background": "light"
     },
     "output_type": "display_data"
    },
    {
     "data": {
      "image/png": "[encoded data removed]",
      "text/plain": [
       "<Figure size 432x288 with 2 Axes>"
      ]
     },
     "metadata": {
      "needs_background": "light"
     },
     "output_type": "display_data"
    },
    {
     "data": {
      "image/png": "[encoded data removed]",
      "text/plain": [
       "<Figure size 432x288 with 2 Axes>"
      ]
     },
     "metadata": {
      "needs_background": "light"
     },
     "output_type": "display_data"
    },
    {
     "data": {
      "image/png": "[encoded data removed]",
      "text/plain": [
       "<Figure size 432x288 with 2 Axes>"
      ]
     },
     "metadata": {
      "needs_background": "light"
     },
     "output_type": "display_data"
    },
    {
     "data": {
      "image/png": "[encoded data removed]",
      "text/plain": [
       "<Figure size 432x288 with 2 Axes>"
      ]
     },
     "metadata": {
      "needs_background": "light"
     },
     "output_type": "display_data"
    }
   ],
   "source": [
    "heatmap(R)\n",
    "heatmap(R_est)\n",
    "heatmap(R_est1)\n",
    "heatmap(R_est2)\n",
    "heatmap(c.sample_corr())"
   ]
  },
  {
   "cell_type": "code",
   "execution_count": 21,
   "metadata": {},
   "outputs": [
    {
     "data": {
      "text/plain": [
       "(array([[1., 0., 0., ..., 0., 0., 0.],\n",
       "        [0., 1., 0., ..., 0., 0., 0.],\n",
       "        [0., 0., 1., ..., 0., 0., 0.],\n",
       "        ...,\n",
       "        [0., 0., 0., ..., 1., 0., 0.],\n",
       "        [0., 0., 0., ..., 0., 1., 0.],\n",
       "        [0., 0., 0., ..., 0., 0., 1.]]),\n",
       " array([[1.06586502, 0.        , 0.        , ..., 0.        , 0.        ,\n",
       "         0.        ],\n",
       "        [0.        , 0.94005854, 0.        , ..., 0.        , 0.        ,\n",
       "         0.        ],\n",
       "        [0.        , 0.        , 0.94930403, ..., 0.        , 0.        ,\n",
       "         0.        ],\n",
       "        ...,\n",
       "        [0.        , 0.        , 0.        , ..., 0.98563935, 0.        ,\n",
       "         0.        ],\n",
       "        [0.        , 0.        , 0.        , ..., 0.        , 1.03406977,\n",
       "         0.        ],\n",
       "        [0.        , 0.        , 0.        , ..., 0.        , 0.        ,\n",
       "         1.50893011]]),\n",
       " 1)"
      ]
     },
     "execution_count": 21,
     "metadata": {},
     "output_type": "execute_result"
    }
   ],
   "source": [
    "c.auto_fit()"
   ]
  },
  {
   "cell_type": "code",
   "execution_count": 22,
   "metadata": {},
   "outputs": [],
   "source": [
    "class time_printer():\n",
    "    def __init__(self):\n",
    "        self.t = time.time()\n",
    "        self.t_next = None\n",
    "        \n",
    "    def tick(self):\n",
    "        self.t_next = time.time()\n",
    "        print(\"    Time Interval: {}\".format(self.t_next - self.t))\n",
    "        self.t = self.t_next"
   ]
  },
  {
   "cell_type": "code",
   "execution_count": 23,
   "metadata": {},
   "outputs": [],
   "source": [
    "is_random = False\n",
    "rng = (random if is_random else np.random.RandomState(100)) # 300_300:101. other: 100\n",
    "N = 400\n",
    "T = 300\n",
    "res = []\n",
    "rho_range = [0.8, 0.9, 0.95, 0.99]\n",
    "eta_range = [0.5, 0.8, 1]\n",
    "ord_range = ['fro', 2]\n",
    "near_factor_range = [0.5, 2]\n",
    "tp = time_printer()"
   ]
  },
  {
   "cell_type": "code",
   "execution_count": null,
   "metadata": {},
   "outputs": [
    {
     "name": "stdout",
     "output_type": "stream",
     "text": [
      "400 300\n",
      "rho:  0.8\n",
      "    Time Interval: 4.489145994186401\n",
      "eta, near_factor:  0.5 0.5\n",
      "    Time Interval: 4.14154052734375\n",
      "    Time Interval: 0.07994866371154785\n"
     ]
    }
   ],
   "source": [
    "print(N, T)\n",
    "for rho in rho_range:\n",
    "    print(\"rho: \", rho)\n",
    "    \n",
    "    S = gen_S_AR1(rho = rho, N = N)\n",
    "    R = cov2cor(S)\n",
    "    X = rng.multivariate_normal(mean = np.zeros(N), cov = S, size = T)\n",
    "    \n",
    "    m = Covariance(X)\n",
    "    S_l = m.lw_lin_shrink()\n",
    "    R_l = cov2cor(S_l)\n",
    "    S_nl = m.nonlin_shrink()\n",
    "    R_nl = cov2cor(S_nl)\n",
    "    \n",
    "    tp.tick()\n",
    "    \n",
    "    for eta in eta_range:\n",
    "        for near_factor in near_factor_range:\n",
    "            print(\"eta, near_factor: \", eta, near_factor)\n",
    "            \n",
    "            L = gen_L(S, eta, \n",
    "                draw_type = 'near', \n",
    "                is_random = is_random, \n",
    "                near_factor = near_factor)   \n",
    "            \n",
    "            tp.tick()\n",
    "                \n",
    "            c = InfoCorrBand(X, L)\n",
    "            \n",
    "            tp.tick()\n",
    "            \n",
    "            R_est, S_est = c.auto_fit()[:2]\n",
    "            \n",
    "            tp.tick()\n",
    "            \n",
    "            for ord in ord_range:   \n",
    "                print(\"ord: \", ord)\n",
    "                \n",
    "                dct_cov = {'group': 'S', \n",
    "                    'norm type': ord, \n",
    "                    'rho': rho, \n",
    "                    'eta': eta, \n",
    "                    'near factor': near_factor, \n",
    "                    'S or R': LA.norm(S, ord), \n",
    "                    'Sample': LA.norm(c.sample_cov() - S, ord), \n",
    "                    'Linear Shrinkage': LA.norm(S_l - S, ord), \n",
    "                    'Nonlinear Shrinkage': LA.norm(S_nl - S, ord), \n",
    "                    'Info Band': LA.norm(S_est - S, ord)}\n",
    "                dct_cor = {'group': 'R', \n",
    "                    'norm type': ord, \n",
    "                    'rho': rho, \n",
    "                    'eta': eta, \n",
    "                    'near factor': near_factor, \n",
    "                    'S or R': LA.norm(R, ord), \n",
    "                    'Sample': LA.norm(c.sample_corr() - R, ord), \n",
    "                    'Linear Shrinkage': LA.norm(R_l - R, ord), \n",
    "                    'Nonlinear Shrinkage': LA.norm(R_nl - R, ord), \n",
    "                    'Info Band': LA.norm(R_est - R, ord)}\n",
    "                res += [dct_cov, dct_cor]\n",
    "                \n",
    "                tp.tick()"
   ]
  },
  {
   "cell_type": "code",
   "execution_count": null,
   "metadata": {},
   "outputs": [],
   "source": [
    "df = pd.DataFrame(res)\n",
    "df"
   ]
  },
  {
   "cell_type": "code",
   "execution_count": null,
   "metadata": {},
   "outputs": [],
   "source": [
    "path = 'resultData/'\n",
    "file_name = 'result_' + str(N) + '-' + str(T) + '.csv'\n",
    "df.to_csv(path + file_name)\n",
    "# df.to_csv(path + file_name, float_format = '%.5f') "
   ]
  },
  {
   "cell_type": "markdown",
   "metadata": {},
   "source": [
    "dataframe 追加模式 https://blog.csdn.net/lost0910/article/details/105321888"
   ]
  },
  {
   "cell_type": "code",
   "execution_count": null,
   "metadata": {},
   "outputs": [],
   "source": []
  },
  {
   "cell_type": "code",
   "execution_count": null,
   "metadata": {},
   "outputs": [],
   "source": []
  },
  {
   "cell_type": "code",
   "execution_count": null,
   "metadata": {},
   "outputs": [],
   "source": []
  },
  {
   "cell_type": "markdown",
   "metadata": {},
   "source": [
    "# test"
   ]
  },
  {
   "cell_type": "code",
   "execution_count": null,
   "metadata": {},
   "outputs": [],
   "source": [
    "N = 400\n",
    "T = 400\n",
    "S = gen_S_AR1(rho = 0.9, N = N)\n",
    "R = cov2cor(S)\n",
    "X = np.random.multivariate_normal(mean = np.zeros(N), cov = S, size = T)\n",
    "m = Covariance(X)\n",
    "S_nl = m.nonlin_shrink()\n",
    "print(S_nl)\n",
    "lam, u = np.linalg.eigh(m.sample_cov())\n",
    "print(lam)"
   ]
  }
 ],
 "metadata": {
  "kernelspec": {
   "display_name": "Python 3",
   "language": "python",
   "name": "python3"
  },
  "language_info": {
   "codemirror_mode": {
    "name": "ipython",
    "version": 3
   },
   "file_extension": ".py",
   "mimetype": "text/x-python",
   "name": "python",
   "nbconvert_exporter": "python",
   "pygments_lexer": "ipython3",
   "version": "3.6.10"
  },
  "vscode": {
   "interpreter": {
    "hash": "49cb93f377a7abe7414b7b0f21fb3017538004a126cf690fb524202736b7fb92"
   }
  }
 },
 "nbformat": 4,
 "nbformat_minor": 2
}
