{
 "cells": [
  {
   "cell_type": "code",
   "execution_count": 2,
   "id": "47deeac0",
   "metadata": {},
   "outputs": [],
   "source": [
    "import numpy as np"
   ]
  },
  {
   "cell_type": "code",
   "execution_count": 26,
   "id": "479e9072",
   "metadata": {},
   "outputs": [],
   "source": [
    "loopNum = 100\n",
    "N = 200\n",
    "K = N // 10\n",
    "# K = 2\n",
    "ratio = []\n",
    "fill = []"
   ]
  },
  {
   "cell_type": "markdown",
   "id": "704b1c8d",
   "metadata": {},
   "source": [
    "ratio : 非零元素最多的一行的非零元个数 / K\n",
    "fill : 整个矩阵非零元素的比例"
   ]
  },
  {
   "cell_type": "markdown",
   "id": "4e1e41fb",
   "metadata": {},
   "source": [
    "$$ rowSort[i][j]=k \\ \\Leftrightarrow\\ X[i][j] \\text{ is (k+1)-greatest in row }i $$\n",
    "$$ rowSort[i][j] < k \\ \\Leftrightarrow\\ j \\in S^d_{k,i} $$\n",
    "where $k = 1,..,n$."
   ]
  },
  {
   "cell_type": "code",
   "execution_count": 25,
   "id": "7efe2433",
   "metadata": {},
   "outputs": [
    {
     "name": "stdout",
     "output_type": "stream",
     "text": [
      "0.125 50 [2, 2, 2, 3, 3, 2, 3, 2, 2, 2, 5, 2, 3, 2, 2, 2, 4, 3, 2, 2]\n"
     ]
    }
   ],
   "source": [
    "for l in range(loopNum):\n",
    "    A = np.array([[np.random.rand() if i > j else (1 if i == j else 0) for j in range(N)] for i in range(N)])\n",
    "    X = np.dot(A, A.transpose())\n",
    "    Sig = [X[i][i] for i in range(N)]\n",
    "    X = np.array([[X[i][j] / np.sqrt(Sig[i] * Sig[j]) for j in range(N)] for i in range(N)]) # Cov to Cor\n",
    "    # print(X)\n",
    "    \n",
    "    rowSort = [[0] * N for i in range(N)]\n",
    "    for i in range(N):\n",
    "        Order = np.argsort(X[i])[::-1] # Order[k] = j: X[i][j]在第i行是第k大\n",
    "        for k in range(N):\n",
    "            rowSort[i][Order[k]] = k\n",
    "    \n",
    "    hatX = X.copy() # 深拷贝\n",
    "    for i in range(N):\n",
    "        for j in range(N):\n",
    "            if not(rowSort[i][j] < K or rowSort[j][i] < K):\n",
    "                hatX[i][j] = 0\n",
    "                \n",
    "    rowZeros = [sum([int(hatX[i][j] > 0) for j in range(N)]) for i in range(N)]\n",
    "    ratio.append(max(rowZeros) / K)\n",
    "    fill.append(sum(rowZeros) / (N ** 2))"
   ]
  },
  {
   "cell_type": "code",
   "execution_count": 5,
   "id": "7633cc00",
   "metadata": {},
   "outputs": [],
   "source": [
    "import matplotlib.pyplot as plt\n",
    "# help('matplotlib.pyplot.title')"
   ]
  },
  {
   "cell_type": "code",
   "execution_count": 6,
   "id": "c2a1f5fe",
   "metadata": {},
   "outputs": [
    {
     "name": "stdout",
     "output_type": "stream",
     "text": [
      "100\n",
      "10\n",
      "1.4999999999999998\n",
      "0.9607843137254903\n"
     ]
    }
   ],
   "source": [
    "print(N, K, max(ratio) - min(ratio), max(fill) - min(fill), sep = '\\n')"
   ]
  },
  {
   "cell_type": "code",
   "execution_count": 7,
   "id": "e59df9d4",
   "metadata": {},
   "outputs": [
    {
     "data": {
      "image/png": "[encoded data removed]",
      "text/plain": [
       "<Figure size 432x288 with 1 Axes>"
      ]
     },
     "metadata": {
      "needs_background": "light"
     },
     "output_type": "display_data"
    }
   ],
   "source": [
    "# %%capture\n",
    "plt.hist(x = ratio, bins = 20, rwidth = 0.9, color = '#607c8e');\n",
    "plt.title(label = 'ratio: $N=%d, K=%d$'%(N, K)); "
   ]
  },
  {
   "cell_type": "code",
   "execution_count": 12,
   "id": "b90baede",
   "metadata": {},
   "outputs": [
    {
     "data": {
      "image/png": "[encoded data removed]",
      "text/plain": [
       "<Figure size 432x288 with 1 Axes>"
      ]
     },
     "metadata": {
      "needs_background": "light"
     },
     "output_type": "display_data"
    }
   ],
   "source": [
    "plt.hist(x = fill, bins = 20, color = '#607c8e');\n",
    "plt.title(label = 'fill');"
   ]
  },
  {
   "cell_type": "code",
   "execution_count": 187,
   "id": "707eafe4",
   "metadata": {},
   "outputs": [],
   "source": [
    "eigVals = np.linalg.eigvals(X)\n",
    "eigVals = - np.sort(- eigVals)\n",
    "# print(eigVals)"
   ]
  },
  {
   "cell_type": "code",
   "execution_count": 188,
   "id": "60cfde48",
   "metadata": {},
   "outputs": [
    {
     "name": "stdout",
     "output_type": "stream",
     "text": [
      "[[  0   2   4 ... 466 205 150]\n",
      " [  3   0   2 ... 322 345 176]\n",
      " [ 18   2   0 ... 433 247 175]\n",
      " ...\n",
      " [499 495 498 ...   0  18  20]\n",
      " [497 499 496 ...  18   0   6]\n",
      " [497 494 491 ...   9   2   0]]\n"
     ]
    }
   ],
   "source": [
    "rowSort = [[0] * n for i in range(n)]\n",
    "for i in range(n):\n",
    "    Order = np.argsort(X[i])[::-1] # Order[k] = j: X[i][j]在第i行是第k大\n",
    "    for k in range(n):\n",
    "        rowSort[i][Order[k]] = k\n",
    "print(np.array(rowSort))"
   ]
  },
  {
   "cell_type": "markdown",
   "id": "a30f0c90",
   "metadata": {},
   "source": [
    "$$ R^d_{k,sym} = [ r_{ij} I(j\\in S^d_{k,i} \\lor i\\in S^d_{k,j}) ]_{p\\times p} $$"
   ]
  },
  {
   "cell_type": "code",
   "execution_count": 221,
   "id": "c24249b2",
   "metadata": {},
   "outputs": [
    {
     "name": "stdout",
     "output_type": "stream",
     "text": [
      "2\n"
     ]
    }
   ],
   "source": [
    "hatX = X.copy() # 深拷贝\n",
    "k = n // 250\n",
    "print(k)\n",
    "for i in range(n):\n",
    "    for j in range(n):\n",
    "        if not(rowSort[i][j] < k or rowSort[j][i] < k):\n",
    "            hatX[i][j] = 0\n",
    "# print(hatX)"
   ]
  },
  {
   "cell_type": "code",
   "execution_count": 222,
   "id": "2113ea52",
   "metadata": {},
   "outputs": [
    {
     "data": {
      "text/plain": [
       "13"
      ]
     },
     "execution_count": 222,
     "metadata": {},
     "output_type": "execute_result"
    }
   ],
   "source": [
    "rowZeros = [sum([int(hatX[i][j] > 0) for j in range(n)]) for i in range(n)]\n",
    "max(rowZeros)"
   ]
  },
  {
   "cell_type": "code",
   "execution_count": 66,
   "id": "9f5a2dab",
   "metadata": {},
   "outputs": [
    {
     "name": "stdout",
     "output_type": "stream",
     "text": [
      "input\n",
      "\n",
      "input\\n\n"
     ]
    }
   ],
   "source": [
    "str1= 'input\\n'\n",
    "\n",
    "str= r'input\\n'\n",
    "\n",
    "print(str1)\n",
    "\n",
    "print(str)"
   ]
  },
  {
   "cell_type": "code",
   "execution_count": null,
   "id": "65078809",
   "metadata": {},
   "outputs": [],
   "source": [
    "i"
   ]
  },
  {
   "cell_type": "code",
   "execution_count": null,
   "id": "75c78c2e",
   "metadata": {},
   "outputs": [],
   "source": []
  },
  {
   "cell_type": "code",
   "execution_count": null,
   "id": "77290568",
   "metadata": {},
   "outputs": [],
   "source": []
  }
 ],
 "metadata": {
  "kernelspec": {
   "display_name": "Python 3 (ipykernel)",
   "language": "python",
   "name": "python3"
  },
  "language_info": {
   "codemirror_mode": {
    "name": "ipython",
    "version": 3
   },
   "file_extension": ".py",
   "mimetype": "text/x-python",
   "name": "python",
   "nbconvert_exporter": "python",
   "pygments_lexer": "ipython3",
   "version": "3.9.12"
  }
 },
 "nbformat": 4,
 "nbformat_minor": 5
}
