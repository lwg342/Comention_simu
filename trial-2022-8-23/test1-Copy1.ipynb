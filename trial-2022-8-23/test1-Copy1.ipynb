{
 "cells": [
  {
   "cell_type": "code",
   "execution_count": 25,
   "id": "47deeac0",
   "metadata": {},
   "outputs": [],
   "source": [
    "import numpy as np"
   ]
  },
  {
   "cell_type": "code",
   "execution_count": 26,
   "id": "479e9072",
   "metadata": {},
   "outputs": [],
   "source": [
    "loopNum = 1\n",
    "N = 500\n",
    "K = N // 5\n",
    "# K = 2\n",
    "ratio = []\n",
    "fill = []"
   ]
  },
  {
   "cell_type": "markdown",
   "id": "9df15d1f",
   "metadata": {},
   "source": [
    "ratio : 非零元素最多的一行的非零元个数 / K\n",
    "fill : 整个矩阵非零元素的比例"
   ]
  },
  {
   "cell_type": "markdown",
   "id": "4e1e41fb",
   "metadata": {},
   "source": [
    "$$ rowSort[i][j]=k \\ \\Leftrightarrow\\ X[i][j] \\text{ is (k+1)-greatest in row }i $$\n",
    "$$ rowSort[i][j] < k \\ \\Leftrightarrow\\ j \\in S^d_{k,i} $$\n",
    "where $k = 1,..,n$."
   ]
  },
  {
   "cell_type": "code",
   "execution_count": 27,
   "id": "7efe2433",
   "metadata": {},
   "outputs": [],
   "source": [
    "for l in range(loopNum):\n",
    "    # A : random lower-triangle matrix\n",
    "    A = np.array([[np.random.rand() if i > j else (1 if i == j else 0) for j in range(N)] for i in range(N)])\n",
    "    # X : pd, covariance\n",
    "    X = np.dot(A, A.transpose())\n",
    "    # Sig : marginal variance\n",
    "    Sig = [X[i][i] for i in range(N)]\n",
    "    # X : cov to corr\n",
    "    X = np.array([[X[i][j] / np.sqrt(Sig[i] * Sig[j]) for j in range(N)] for i in range(N)]) \n",
    "    # print(X)\n",
    "    \n",
    "    rowSort = [[0] * N for i in range(N)]\n",
    "    for i in range(N):\n",
    "        Order = np.argsort(X[i])[::-1] # Order[k] = j: X[i][j]在第i行是第k大\n",
    "        for k in range(N):\n",
    "            rowSort[i][Order[k]] = k\n",
    "    \n",
    "    hatX = X.copy() # 深拷贝\n",
    "    for i in range(N):\n",
    "        for j in range(N):\n",
    "            if not (rowSort[i][j] < K or rowSort[j][i] < K):\n",
    "                hatX[i][j] = 0\n",
    "                \n",
    "    rowZeros = [sum([int(hatX[i][j] > 0) for j in range(N)]) for i in range(N)]\n",
    "    ratio.append(max(rowZeros) / K)\n",
    "    fill.append(sum(rowZeros) / (N ** 2))"
   ]
  },
  {
   "cell_type": "code",
   "execution_count": 28,
   "id": "7633cc00",
   "metadata": {},
   "outputs": [],
   "source": [
    "import matplotlib.pyplot as plt\n",
    "# help('matplotlib.pyplot.title')"
   ]
  },
  {
   "cell_type": "code",
   "execution_count": 29,
   "id": "c2a1f5fe",
   "metadata": {},
   "outputs": [
    {
     "name": "stdout",
     "output_type": "stream",
     "text": [
      "500\n",
      "100\n",
      "0.0\n",
      "0.0\n"
     ]
    }
   ],
   "source": [
    "print(N, K, max(ratio) - min(ratio), max(fill) - min(fill), sep = '\\n')"
   ]
  },
  {
   "cell_type": "code",
   "execution_count": 30,
   "id": "e59df9d4",
   "metadata": {},
   "outputs": [
    {
     "data": {
      "image/png": "[encoded data removed]",
      "text/plain": [
       "<Figure size 640x480 with 1 Axes>"
      ]
     },
     "metadata": {},
     "output_type": "display_data"
    }
   ],
   "source": [
    "# %%capture\n",
    "plt.hist(x = ratio, bins = 20, rwidth = 0.9, color = '#607c8e');\n",
    "plt.title(label = 'ratio: $N=%d, K=%d$'%(N, K)); "
   ]
  },
  {
   "cell_type": "code",
   "execution_count": 31,
   "id": "cfb72d82",
   "metadata": {},
   "outputs": [
    {
     "data": {
      "image/png": "[encoded data removed]",
      "text/plain": [
       "<Figure size 640x480 with 1 Axes>"
      ]
     },
     "metadata": {},
     "output_type": "display_data"
    }
   ],
   "source": [
    "plt.hist(x = fill, bins = 20, color = '#607c8e');\n",
    "plt.title(label = 'fill');"
   ]
  },
  {
   "cell_type": "code",
   "execution_count": null,
   "id": "1ac11f9b",
   "metadata": {},
   "outputs": [],
   "source": []
  },
  {
   "cell_type": "code",
   "execution_count": null,
   "id": "6df13e5e",
   "metadata": {},
   "outputs": [],
   "source": []
  },
  {
   "cell_type": "code",
   "execution_count": null,
   "id": "e29b7594",
   "metadata": {},
   "outputs": [],
   "source": []
  },
  {
   "cell_type": "code",
   "execution_count": 55,
   "id": "707eafe4",
   "metadata": {},
   "outputs": [
    {
     "name": "stdout",
     "output_type": "stream",
     "text": [
      "(-1.2181560744775082e-15-1.9159279894305562e-16j)\n"
     ]
    }
   ],
   "source": [
    "eigVals = np.linalg.eigvals(X)\n",
    "#print(eigVals)\n",
    "print(eigVals.min())\n",
    "# eigVals = - np.sort(- eigVals)\n",
    "#print(eigVals)"
   ]
  },
  {
   "cell_type": "code",
   "execution_count": 64,
   "id": "62273415",
   "metadata": {},
   "outputs": [
    {
     "data": {
      "text/plain": [
       "(8.793573908435733e-13+0j)"
      ]
     },
     "execution_count": 64,
     "metadata": {},
     "output_type": "execute_result"
    }
   ],
   "source": [
    "x = eigVals\n",
    "N\n",
    "x[-10]"
   ]
  },
  {
   "cell_type": "code",
   "execution_count": 33,
   "id": "60cfde48",
   "metadata": {},
   "outputs": [
    {
     "ename": "NameError",
     "evalue": "name 'n' is not defined",
     "output_type": "error",
     "traceback": [
      "\u001b[1;31m---------------------------------------------------------------------------\u001b[0m",
      "\u001b[1;31mNameError\u001b[0m                                 Traceback (most recent call last)",
      "Cell \u001b[1;32mIn [33], line 1\u001b[0m\n\u001b[1;32m----> 1\u001b[0m rowSort \u001b[38;5;241m=\u001b[39m [[\u001b[38;5;241m0\u001b[39m] \u001b[38;5;241m*\u001b[39m n \u001b[38;5;28;01mfor\u001b[39;00m i \u001b[38;5;129;01min\u001b[39;00m \u001b[38;5;28mrange\u001b[39m(\u001b[43mn\u001b[49m)]\n\u001b[0;32m      2\u001b[0m \u001b[38;5;28;01mfor\u001b[39;00m i \u001b[38;5;129;01min\u001b[39;00m \u001b[38;5;28mrange\u001b[39m(n):\n\u001b[0;32m      3\u001b[0m     Order \u001b[38;5;241m=\u001b[39m np\u001b[38;5;241m.\u001b[39margsort(X[i])[::\u001b[38;5;241m-\u001b[39m\u001b[38;5;241m1\u001b[39m] \u001b[38;5;66;03m# Order[k] = j: X[i][j]在第i行是第k大\u001b[39;00m\n",
      "\u001b[1;31mNameError\u001b[0m: name 'n' is not defined"
     ]
    }
   ],
   "source": [
    "rowSort = [[0] * n for i in range(n)]\n",
    "for i in range(n):\n",
    "    Order = np.argsort(X[i])[::-1] # Order[k] = j: X[i][j]在第i行是第k大\n",
    "    for k in range(n):\n",
    "        rowSort[i][Order[k]] = k\n",
    "print(np.array(rowSort))"
   ]
  },
  {
   "cell_type": "markdown",
   "id": "a30f0c90",
   "metadata": {},
   "source": [
    "$$ R^d_{k,sym} = [ r_{ij} I(j\\in S^d_{k,i} \\lor i\\in S^d_{k,j}) ]_{p\\times p} $$"
   ]
  },
  {
   "cell_type": "code",
   "execution_count": null,
   "id": "c24249b2",
   "metadata": {},
   "outputs": [
    {
     "name": "stdout",
     "output_type": "stream",
     "text": [
      "2\n"
     ]
    }
   ],
   "source": [
    "hatX = X.copy() # 深拷贝\n",
    "k = n // 250\n",
    "print(k)\n",
    "for i in range(n):\n",
    "    for j in range(n):\n",
    "        if not(rowSort[i][j] < k or rowSort[j][i] < k):\n",
    "            hatX[i][j] = 0\n",
    "# print(hatX)"
   ]
  },
  {
   "cell_type": "code",
   "execution_count": null,
   "id": "2113ea52",
   "metadata": {},
   "outputs": [
    {
     "data": {
      "text/plain": [
       "13"
      ]
     },
     "execution_count": 222,
     "metadata": {},
     "output_type": "execute_result"
    }
   ],
   "source": [
    "rowZeros = [sum([int(hatX[i][j] > 0) for j in range(n)]) for i in range(n)]\n",
    "max(rowZeros)"
   ]
  },
  {
   "cell_type": "code",
   "execution_count": null,
   "id": "9f5a2dab",
   "metadata": {},
   "outputs": [
    {
     "name": "stdout",
     "output_type": "stream",
     "text": [
      "input\n",
      "\n",
      "input\\n\n"
     ]
    }
   ],
   "source": [
    "str1= 'input\\n'\n",
    "\n",
    "str= r'input\\n'\n",
    "\n",
    "print(str1)\n",
    "\n",
    "print(str)"
   ]
  },
  {
   "cell_type": "code",
   "execution_count": null,
   "id": "65078809",
   "metadata": {},
   "outputs": [],
   "source": [
    "i"
   ]
  },
  {
   "cell_type": "code",
   "execution_count": null,
   "id": "75c78c2e",
   "metadata": {},
   "outputs": [],
   "source": []
  },
  {
   "cell_type": "code",
   "execution_count": null,
   "id": "77290568",
   "metadata": {},
   "outputs": [],
   "source": []
  }
 ],
 "metadata": {
  "kernelspec": {
   "display_name": "Python 3.9.13 ('simu')",
   "language": "python",
   "name": "python3"
  },
  "language_info": {
   "codemirror_mode": {
    "name": "ipython",
    "version": 3
   },
   "file_extension": ".py",
   "mimetype": "text/x-python",
   "name": "python",
   "nbconvert_exporter": "python",
   "pygments_lexer": "ipython3",
   "version": "3.9.13"
  },
  "vscode": {
   "interpreter": {
    "hash": "b1f8481d56ce14143e6478182e374bc2468eaf037e4af344af9b6ae85cf11f37"
   }
  }
 },
 "nbformat": 4,
 "nbformat_minor": 5
}
