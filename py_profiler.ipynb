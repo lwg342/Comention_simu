{
 "cells": [
  {
   "cell_type": "code",
   "execution_count": 2,
   "metadata": {},
   "outputs": [],
   "source": [
    "import time\n",
    "from pyinstrument import Profiler"
   ]
  },
  {
   "cell_type": "code",
   "execution_count": 4,
   "metadata": {},
   "outputs": [],
   "source": [
    "sleep_time = 0.1\n",
    "\n",
    "def start():\n",
    "    time.sleep(sleep_time)\n",
    "    do_sleep1()\n",
    "    do_sleep2()\n",
    "    for i in range(5000):\n",
    "        for j in range(5000):\n",
    "            pass\n",
    "\n",
    "def do_sleep1():\n",
    "    time.sleep(sleep_time)\n",
    "\n",
    "def do_sleep2():\n",
    "    do_sleep1()\n",
    "    time.sleep(sleep_time)"
   ]
  },
  {
   "cell_type": "code",
   "execution_count": 6,
   "metadata": {},
   "outputs": [
    {
     "name": "stdout",
     "output_type": "stream",
     "text": [
      "\n",
      "  _     ._   __/__   _ _  _  _ _/_   Recorded: 20:22:56  Samples:  6\n",
      " /_//_/// /_\\ / //_// / //_'/ //     Duration: 0.430     CPU time: 0.000\n",
      "/   _/                      v4.4.0\n",
      "\n",
      "Program: d:\\anaconda3\\envs\\simu\\lib\\site-packages\\ipykernel_launcher.py --ip=127.0.0.1 --stdin=9008 --control=9006 --hb=9005 --Session.signature_scheme=\"hmac-sha256\" --Session.key=b\"453e3293-377d-4701-854c-c84f964f5e8f\" --shell=9007 --transport=\"tcp\" --iopub=9009 --f=c:\\Users\\lx\\AppData\\Roaming\\jupyter\\runtime\\kernel-v2-23572F5V7A1tXzc9y.json\n",
      "\n",
      "0.430 ZMQInteractiveShell.run_code  IPython\\core\\interactiveshell.py:3342\n",
      "└─ 0.429 <module>  None\n",
      "   └─ 0.429 start  None\n",
      "      ├─ 0.216 do_sleep2  None\n",
      "      │  ├─ 0.108 sleep  None\n",
      "      │  │     [2 frames hidden]  <built-in>\n",
      "      │  └─ 0.108 do_sleep1  None\n",
      "      │     └─ 0.108 sleep  None\n",
      "      │           [2 frames hidden]  <built-in>\n",
      "      ├─ 0.106 do_sleep1  None\n",
      "      │  └─ 0.106 sleep  None\n",
      "      │        [2 frames hidden]  <built-in>\n",
      "      └─ 0.106 sleep  None\n",
      "            [2 frames hidden]  <built-in>\n",
      "\n",
      "\n"
     ]
    }
   ],
   "source": [
    "profiler = Profiler()\n",
    "profiler.start()\n",
    "\n",
    "start()\n",
    "\n",
    "profiler.stop()\n",
    "profiler.print()"
   ]
  }
 ],
 "metadata": {
  "kernelspec": {
   "display_name": "Python 3.9.13 ('simu')",
   "language": "python",
   "name": "python3"
  },
  "language_info": {
   "codemirror_mode": {
    "name": "ipython",
    "version": 3
   },
   "file_extension": ".py",
   "mimetype": "text/x-python",
   "name": "python",
   "nbconvert_exporter": "python",
   "pygments_lexer": "ipython3",
   "version": "3.9.13"
  },
  "orig_nbformat": 4,
  "vscode": {
   "interpreter": {
    "hash": "b1f8481d56ce14143e6478182e374bc2468eaf037e4af344af9b6ae85cf11f37"
   }
  }
 },
 "nbformat": 4,
 "nbformat_minor": 2
}
